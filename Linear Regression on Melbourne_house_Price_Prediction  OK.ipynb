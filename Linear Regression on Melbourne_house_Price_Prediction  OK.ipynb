{
 "cells": [
  {
   "cell_type": "markdown",
   "id": "c95a4f76",
   "metadata": {},
   "source": [
    "# Melbourne_Houses_Price_analysis_&_Prediction"
   ]
  },
  {
   "cell_type": "markdown",
   "id": "333125a8",
   "metadata": {},
   "source": [
    "# https://www.kaggle.com/code/phoonyein/melbourne-houses-price-analysis-prediction"
   ]
  },
  {
   "cell_type": "markdown",
   "id": "8bda2f38",
   "metadata": {},
   "source": [
    "# Objective : \n",
    "    Create a price report and information about the houses of Melbourne."
   ]
  },
  {
   "cell_type": "markdown",
   "id": "af8d27a1",
   "metadata": {},
   "source": [
    "# import the necessary libraries"
   ]
  },
  {
   "cell_type": "code",
   "execution_count": 1,
   "id": "d211b015",
   "metadata": {},
   "outputs": [],
   "source": [
    "import pandas as pd\n",
    "import numpy as np \n",
    "import seaborn as sns\n",
    "import matplotlib.pyplot as plt"
   ]
  },
  {
   "cell_type": "markdown",
   "id": "93a504c9",
   "metadata": {},
   "source": [
    "# lets load the boston dataset"
   ]
  },
  {
   "cell_type": "code",
   "execution_count": 2,
   "id": "e1a6768d",
   "metadata": {},
   "outputs": [
    {
     "data": {
      "text/html": [
       "<div>\n",
       "<style scoped>\n",
       "    .dataframe tbody tr th:only-of-type {\n",
       "        vertical-align: middle;\n",
       "    }\n",
       "\n",
       "    .dataframe tbody tr th {\n",
       "        vertical-align: top;\n",
       "    }\n",
       "\n",
       "    .dataframe thead th {\n",
       "        text-align: right;\n",
       "    }\n",
       "</style>\n",
       "<table border=\"1\" class=\"dataframe\">\n",
       "  <thead>\n",
       "    <tr style=\"text-align: right;\">\n",
       "      <th></th>\n",
       "      <th>Suburb</th>\n",
       "      <th>Address</th>\n",
       "      <th>Rooms</th>\n",
       "      <th>Type</th>\n",
       "      <th>Price</th>\n",
       "      <th>Method</th>\n",
       "      <th>SellerG</th>\n",
       "      <th>Date</th>\n",
       "      <th>Distance</th>\n",
       "      <th>Postcode</th>\n",
       "      <th>...</th>\n",
       "      <th>Bathroom</th>\n",
       "      <th>Car</th>\n",
       "      <th>Landsize</th>\n",
       "      <th>BuildingArea</th>\n",
       "      <th>YearBuilt</th>\n",
       "      <th>CouncilArea</th>\n",
       "      <th>Lattitude</th>\n",
       "      <th>Longtitude</th>\n",
       "      <th>Regionname</th>\n",
       "      <th>Propertycount</th>\n",
       "    </tr>\n",
       "  </thead>\n",
       "  <tbody>\n",
       "    <tr>\n",
       "      <th>0</th>\n",
       "      <td>Abbotsford</td>\n",
       "      <td>68 Studley St</td>\n",
       "      <td>2</td>\n",
       "      <td>h</td>\n",
       "      <td>NaN</td>\n",
       "      <td>SS</td>\n",
       "      <td>Jellis</td>\n",
       "      <td>3/09/2016</td>\n",
       "      <td>2.5</td>\n",
       "      <td>3067.0</td>\n",
       "      <td>...</td>\n",
       "      <td>1.0</td>\n",
       "      <td>1.0</td>\n",
       "      <td>126.0</td>\n",
       "      <td>NaN</td>\n",
       "      <td>NaN</td>\n",
       "      <td>Yarra City Council</td>\n",
       "      <td>-37.8014</td>\n",
       "      <td>144.9958</td>\n",
       "      <td>Northern Metropolitan</td>\n",
       "      <td>4019.0</td>\n",
       "    </tr>\n",
       "    <tr>\n",
       "      <th>1</th>\n",
       "      <td>Abbotsford</td>\n",
       "      <td>85 Turner St</td>\n",
       "      <td>2</td>\n",
       "      <td>h</td>\n",
       "      <td>1480000.0</td>\n",
       "      <td>S</td>\n",
       "      <td>Biggin</td>\n",
       "      <td>3/12/2016</td>\n",
       "      <td>2.5</td>\n",
       "      <td>3067.0</td>\n",
       "      <td>...</td>\n",
       "      <td>1.0</td>\n",
       "      <td>1.0</td>\n",
       "      <td>202.0</td>\n",
       "      <td>NaN</td>\n",
       "      <td>NaN</td>\n",
       "      <td>Yarra City Council</td>\n",
       "      <td>-37.7996</td>\n",
       "      <td>144.9984</td>\n",
       "      <td>Northern Metropolitan</td>\n",
       "      <td>4019.0</td>\n",
       "    </tr>\n",
       "    <tr>\n",
       "      <th>2</th>\n",
       "      <td>Abbotsford</td>\n",
       "      <td>25 Bloomburg St</td>\n",
       "      <td>2</td>\n",
       "      <td>h</td>\n",
       "      <td>1035000.0</td>\n",
       "      <td>S</td>\n",
       "      <td>Biggin</td>\n",
       "      <td>4/02/2016</td>\n",
       "      <td>2.5</td>\n",
       "      <td>3067.0</td>\n",
       "      <td>...</td>\n",
       "      <td>1.0</td>\n",
       "      <td>0.0</td>\n",
       "      <td>156.0</td>\n",
       "      <td>79.0</td>\n",
       "      <td>1900.0</td>\n",
       "      <td>Yarra City Council</td>\n",
       "      <td>-37.8079</td>\n",
       "      <td>144.9934</td>\n",
       "      <td>Northern Metropolitan</td>\n",
       "      <td>4019.0</td>\n",
       "    </tr>\n",
       "    <tr>\n",
       "      <th>3</th>\n",
       "      <td>Abbotsford</td>\n",
       "      <td>18/659 Victoria St</td>\n",
       "      <td>3</td>\n",
       "      <td>u</td>\n",
       "      <td>NaN</td>\n",
       "      <td>VB</td>\n",
       "      <td>Rounds</td>\n",
       "      <td>4/02/2016</td>\n",
       "      <td>2.5</td>\n",
       "      <td>3067.0</td>\n",
       "      <td>...</td>\n",
       "      <td>2.0</td>\n",
       "      <td>1.0</td>\n",
       "      <td>0.0</td>\n",
       "      <td>NaN</td>\n",
       "      <td>NaN</td>\n",
       "      <td>Yarra City Council</td>\n",
       "      <td>-37.8114</td>\n",
       "      <td>145.0116</td>\n",
       "      <td>Northern Metropolitan</td>\n",
       "      <td>4019.0</td>\n",
       "    </tr>\n",
       "    <tr>\n",
       "      <th>4</th>\n",
       "      <td>Abbotsford</td>\n",
       "      <td>5 Charles St</td>\n",
       "      <td>3</td>\n",
       "      <td>h</td>\n",
       "      <td>1465000.0</td>\n",
       "      <td>SP</td>\n",
       "      <td>Biggin</td>\n",
       "      <td>4/03/2017</td>\n",
       "      <td>2.5</td>\n",
       "      <td>3067.0</td>\n",
       "      <td>...</td>\n",
       "      <td>2.0</td>\n",
       "      <td>0.0</td>\n",
       "      <td>134.0</td>\n",
       "      <td>150.0</td>\n",
       "      <td>1900.0</td>\n",
       "      <td>Yarra City Council</td>\n",
       "      <td>-37.8093</td>\n",
       "      <td>144.9944</td>\n",
       "      <td>Northern Metropolitan</td>\n",
       "      <td>4019.0</td>\n",
       "    </tr>\n",
       "  </tbody>\n",
       "</table>\n",
       "<p>5 rows × 21 columns</p>\n",
       "</div>"
      ],
      "text/plain": [
       "       Suburb             Address  Rooms Type      Price Method SellerG  \\\n",
       "0  Abbotsford       68 Studley St      2    h        NaN     SS  Jellis   \n",
       "1  Abbotsford        85 Turner St      2    h  1480000.0      S  Biggin   \n",
       "2  Abbotsford     25 Bloomburg St      2    h  1035000.0      S  Biggin   \n",
       "3  Abbotsford  18/659 Victoria St      3    u        NaN     VB  Rounds   \n",
       "4  Abbotsford        5 Charles St      3    h  1465000.0     SP  Biggin   \n",
       "\n",
       "        Date  Distance  Postcode  ...  Bathroom  Car  Landsize  BuildingArea  \\\n",
       "0  3/09/2016       2.5    3067.0  ...       1.0  1.0     126.0           NaN   \n",
       "1  3/12/2016       2.5    3067.0  ...       1.0  1.0     202.0           NaN   \n",
       "2  4/02/2016       2.5    3067.0  ...       1.0  0.0     156.0          79.0   \n",
       "3  4/02/2016       2.5    3067.0  ...       2.0  1.0       0.0           NaN   \n",
       "4  4/03/2017       2.5    3067.0  ...       2.0  0.0     134.0         150.0   \n",
       "\n",
       "   YearBuilt         CouncilArea Lattitude  Longtitude             Regionname  \\\n",
       "0        NaN  Yarra City Council  -37.8014    144.9958  Northern Metropolitan   \n",
       "1        NaN  Yarra City Council  -37.7996    144.9984  Northern Metropolitan   \n",
       "2     1900.0  Yarra City Council  -37.8079    144.9934  Northern Metropolitan   \n",
       "3        NaN  Yarra City Council  -37.8114    145.0116  Northern Metropolitan   \n",
       "4     1900.0  Yarra City Council  -37.8093    144.9944  Northern Metropolitan   \n",
       "\n",
       "  Propertycount  \n",
       "0        4019.0  \n",
       "1        4019.0  \n",
       "2        4019.0  \n",
       "3        4019.0  \n",
       "4        4019.0  \n",
       "\n",
       "[5 rows x 21 columns]"
      ]
     },
     "execution_count": 2,
     "metadata": {},
     "output_type": "execute_result"
    }
   ],
   "source": [
    "Melbourne_house = pd.read_csv(r\"G:\\Projects\\all_projects_MLearning\\ML_project\\Project_dataset\\ALL HOUSE PRICE PREDICTION DATASET for regression\\Melbourne_housing_FULL.csv\")\n",
    "Melbourne_house.head(5)"
   ]
  },
  {
   "cell_type": "markdown",
   "id": "f8923d8e",
   "metadata": {},
   "source": [
    "# Analysing and peprocessing"
   ]
  },
  {
   "cell_type": "code",
   "execution_count": 3,
   "id": "77ce42e4",
   "metadata": {},
   "outputs": [
    {
     "data": {
      "text/plain": [
       "34857"
      ]
     },
     "execution_count": 3,
     "metadata": {},
     "output_type": "execute_result"
    }
   ],
   "source": [
    "len(Melbourne_house)"
   ]
  },
  {
   "cell_type": "code",
   "execution_count": 4,
   "id": "68b8f7be",
   "metadata": {},
   "outputs": [
    {
     "data": {
      "text/plain": [
       "((34857, 21),\n",
       " 731997,\n",
       " Suburb            object\n",
       " Address           object\n",
       " Rooms              int64\n",
       " Type              object\n",
       " Price            float64\n",
       " Method            object\n",
       " SellerG           object\n",
       " Date              object\n",
       " Distance         float64\n",
       " Postcode         float64\n",
       " Bedroom2         float64\n",
       " Bathroom         float64\n",
       " Car              float64\n",
       " Landsize         float64\n",
       " BuildingArea     float64\n",
       " YearBuilt        float64\n",
       " CouncilArea       object\n",
       " Lattitude        float64\n",
       " Longtitude       float64\n",
       " Regionname        object\n",
       " Propertycount    float64\n",
       " dtype: object)"
      ]
     },
     "execution_count": 4,
     "metadata": {},
     "output_type": "execute_result"
    }
   ],
   "source": [
    "Melbourne_house.shape, Melbourne_house.size, Melbourne_house.dtypes"
   ]
  },
  {
   "cell_type": "code",
   "execution_count": 5,
   "id": "f9b79e1a",
   "metadata": {},
   "outputs": [
    {
     "data": {
      "text/plain": [
       "Index(['Suburb', 'Address', 'Rooms', 'Type', 'Price', 'Method', 'SellerG',\n",
       "       'Date', 'Distance', 'Postcode', 'Bedroom2', 'Bathroom', 'Car',\n",
       "       'Landsize', 'BuildingArea', 'YearBuilt', 'CouncilArea', 'Lattitude',\n",
       "       'Longtitude', 'Regionname', 'Propertycount'],\n",
       "      dtype='object')"
      ]
     },
     "execution_count": 5,
     "metadata": {},
     "output_type": "execute_result"
    }
   ],
   "source": [
    "Melbourne_house.columns"
   ]
  },
  {
   "cell_type": "markdown",
   "id": "65c60e9f",
   "metadata": {},
   "source": [
    "   ## Column_names\tDescription\n",
    "    0\tSuburb\tSuburb\n",
    "    1\tAddress\tAddress\n",
    "    2\tRooms\tNumber of rooms\n",
    "    3\tType\tType br - bedroom(s); h - house,cottage,villa, semi,terrace; u - unit, duplex; t - townhouse; dev site - development site; o res - other residential.\n",
    "    4\tPrice\tPrice in Australian dollars\n",
    "    5\tMethod\tMethod: S - property sold; SP - property sold prior; PI - property passed in; PN - sold prior not disclosed; SN - sold not disclosed; NB - no bid; VB - vendor bid; W - withdrawn prior to auction; SA - sold after auction; SS - sold after auction price not ...\n",
    "    6\tSellerG\tReal Estate Agent\n",
    "    7\tDate\tDate sold\n",
    "    8\tDistance\tDistance from CBD in Kilometres\n",
    "    9\tPostcode\tPostcode\n",
    "    10\tBedroom2\tScraped # of Bedrooms (from different source)\n",
    "    11\tBathroom\tNumber of Bathrooms\n",
    "    12\tCar\tNumber of carspots\n",
    "    13\tLandsize\tLand Size in Metres\n",
    "    14\tBuildingArea\tBuilding Size in Metres\n",
    "    15\tYearBuilt\tYear the house was built\n",
    "    16\tCouncilArea\tGoverning council for the area\n",
    "    17\tLattitude\tLattitude\n",
    "    18\tLongtitude\tLongtitude\n",
    "    19\tRegionname\tGeneral Region (West, North West, North, North east …etc)\n",
    "    20\tPropertycount\tNumber of properties that exist in the suburb."
   ]
  },
  {
   "cell_type": "code",
   "execution_count": 6,
   "id": "a5368311",
   "metadata": {},
   "outputs": [
    {
     "name": "stdout",
     "output_type": "stream",
     "text": [
      "<class 'pandas.core.frame.DataFrame'>\n",
      "RangeIndex: 34857 entries, 0 to 34856\n",
      "Data columns (total 21 columns):\n",
      " #   Column         Non-Null Count  Dtype  \n",
      "---  ------         --------------  -----  \n",
      " 0   Suburb         34857 non-null  object \n",
      " 1   Address        34857 non-null  object \n",
      " 2   Rooms          34857 non-null  int64  \n",
      " 3   Type           34857 non-null  object \n",
      " 4   Price          27247 non-null  float64\n",
      " 5   Method         34857 non-null  object \n",
      " 6   SellerG        34857 non-null  object \n",
      " 7   Date           34857 non-null  object \n",
      " 8   Distance       34856 non-null  float64\n",
      " 9   Postcode       34856 non-null  float64\n",
      " 10  Bedroom2       26640 non-null  float64\n",
      " 11  Bathroom       26631 non-null  float64\n",
      " 12  Car            26129 non-null  float64\n",
      " 13  Landsize       23047 non-null  float64\n",
      " 14  BuildingArea   13742 non-null  float64\n",
      " 15  YearBuilt      15551 non-null  float64\n",
      " 16  CouncilArea    34854 non-null  object \n",
      " 17  Lattitude      26881 non-null  float64\n",
      " 18  Longtitude     26881 non-null  float64\n",
      " 19  Regionname     34854 non-null  object \n",
      " 20  Propertycount  34854 non-null  float64\n",
      "dtypes: float64(12), int64(1), object(8)\n",
      "memory usage: 5.6+ MB\n"
     ]
    }
   ],
   "source": [
    "Melbourne_house.info()"
   ]
  },
  {
   "cell_type": "code",
   "execution_count": 7,
   "id": "440dc21a",
   "metadata": {},
   "outputs": [
    {
     "data": {
      "text/html": [
       "<div>\n",
       "<style scoped>\n",
       "    .dataframe tbody tr th:only-of-type {\n",
       "        vertical-align: middle;\n",
       "    }\n",
       "\n",
       "    .dataframe tbody tr th {\n",
       "        vertical-align: top;\n",
       "    }\n",
       "\n",
       "    .dataframe thead th {\n",
       "        text-align: right;\n",
       "    }\n",
       "</style>\n",
       "<table border=\"1\" class=\"dataframe\">\n",
       "  <thead>\n",
       "    <tr style=\"text-align: right;\">\n",
       "      <th></th>\n",
       "      <th>Rooms</th>\n",
       "      <th>Price</th>\n",
       "      <th>Distance</th>\n",
       "      <th>Postcode</th>\n",
       "      <th>Bedroom2</th>\n",
       "      <th>Bathroom</th>\n",
       "      <th>Car</th>\n",
       "      <th>Landsize</th>\n",
       "      <th>BuildingArea</th>\n",
       "      <th>YearBuilt</th>\n",
       "      <th>Lattitude</th>\n",
       "      <th>Longtitude</th>\n",
       "      <th>Propertycount</th>\n",
       "    </tr>\n",
       "  </thead>\n",
       "  <tbody>\n",
       "    <tr>\n",
       "      <th>count</th>\n",
       "      <td>34857.000000</td>\n",
       "      <td>2.724700e+04</td>\n",
       "      <td>34856.000000</td>\n",
       "      <td>34856.000000</td>\n",
       "      <td>26640.000000</td>\n",
       "      <td>26631.000000</td>\n",
       "      <td>26129.000000</td>\n",
       "      <td>23047.000000</td>\n",
       "      <td>13742.00000</td>\n",
       "      <td>15551.000000</td>\n",
       "      <td>26881.000000</td>\n",
       "      <td>26881.000000</td>\n",
       "      <td>34854.000000</td>\n",
       "    </tr>\n",
       "    <tr>\n",
       "      <th>mean</th>\n",
       "      <td>3.031012</td>\n",
       "      <td>1.050173e+06</td>\n",
       "      <td>11.184929</td>\n",
       "      <td>3116.062859</td>\n",
       "      <td>3.084647</td>\n",
       "      <td>1.624798</td>\n",
       "      <td>1.728845</td>\n",
       "      <td>593.598993</td>\n",
       "      <td>160.25640</td>\n",
       "      <td>1965.289885</td>\n",
       "      <td>-37.810634</td>\n",
       "      <td>145.001851</td>\n",
       "      <td>7572.888306</td>\n",
       "    </tr>\n",
       "    <tr>\n",
       "      <th>std</th>\n",
       "      <td>0.969933</td>\n",
       "      <td>6.414671e+05</td>\n",
       "      <td>6.788892</td>\n",
       "      <td>109.023903</td>\n",
       "      <td>0.980690</td>\n",
       "      <td>0.724212</td>\n",
       "      <td>1.010771</td>\n",
       "      <td>3398.841946</td>\n",
       "      <td>401.26706</td>\n",
       "      <td>37.328178</td>\n",
       "      <td>0.090279</td>\n",
       "      <td>0.120169</td>\n",
       "      <td>4428.090313</td>\n",
       "    </tr>\n",
       "    <tr>\n",
       "      <th>min</th>\n",
       "      <td>1.000000</td>\n",
       "      <td>8.500000e+04</td>\n",
       "      <td>0.000000</td>\n",
       "      <td>3000.000000</td>\n",
       "      <td>0.000000</td>\n",
       "      <td>0.000000</td>\n",
       "      <td>0.000000</td>\n",
       "      <td>0.000000</td>\n",
       "      <td>0.00000</td>\n",
       "      <td>1196.000000</td>\n",
       "      <td>-38.190430</td>\n",
       "      <td>144.423790</td>\n",
       "      <td>83.000000</td>\n",
       "    </tr>\n",
       "    <tr>\n",
       "      <th>25%</th>\n",
       "      <td>2.000000</td>\n",
       "      <td>6.350000e+05</td>\n",
       "      <td>6.400000</td>\n",
       "      <td>3051.000000</td>\n",
       "      <td>2.000000</td>\n",
       "      <td>1.000000</td>\n",
       "      <td>1.000000</td>\n",
       "      <td>224.000000</td>\n",
       "      <td>102.00000</td>\n",
       "      <td>1940.000000</td>\n",
       "      <td>-37.862950</td>\n",
       "      <td>144.933500</td>\n",
       "      <td>4385.000000</td>\n",
       "    </tr>\n",
       "    <tr>\n",
       "      <th>50%</th>\n",
       "      <td>3.000000</td>\n",
       "      <td>8.700000e+05</td>\n",
       "      <td>10.300000</td>\n",
       "      <td>3103.000000</td>\n",
       "      <td>3.000000</td>\n",
       "      <td>2.000000</td>\n",
       "      <td>2.000000</td>\n",
       "      <td>521.000000</td>\n",
       "      <td>136.00000</td>\n",
       "      <td>1970.000000</td>\n",
       "      <td>-37.807600</td>\n",
       "      <td>145.007800</td>\n",
       "      <td>6763.000000</td>\n",
       "    </tr>\n",
       "    <tr>\n",
       "      <th>75%</th>\n",
       "      <td>4.000000</td>\n",
       "      <td>1.295000e+06</td>\n",
       "      <td>14.000000</td>\n",
       "      <td>3156.000000</td>\n",
       "      <td>4.000000</td>\n",
       "      <td>2.000000</td>\n",
       "      <td>2.000000</td>\n",
       "      <td>670.000000</td>\n",
       "      <td>188.00000</td>\n",
       "      <td>2000.000000</td>\n",
       "      <td>-37.754100</td>\n",
       "      <td>145.071900</td>\n",
       "      <td>10412.000000</td>\n",
       "    </tr>\n",
       "    <tr>\n",
       "      <th>max</th>\n",
       "      <td>16.000000</td>\n",
       "      <td>1.120000e+07</td>\n",
       "      <td>48.100000</td>\n",
       "      <td>3978.000000</td>\n",
       "      <td>30.000000</td>\n",
       "      <td>12.000000</td>\n",
       "      <td>26.000000</td>\n",
       "      <td>433014.000000</td>\n",
       "      <td>44515.00000</td>\n",
       "      <td>2106.000000</td>\n",
       "      <td>-37.390200</td>\n",
       "      <td>145.526350</td>\n",
       "      <td>21650.000000</td>\n",
       "    </tr>\n",
       "  </tbody>\n",
       "</table>\n",
       "</div>"
      ],
      "text/plain": [
       "              Rooms         Price      Distance      Postcode      Bedroom2  \\\n",
       "count  34857.000000  2.724700e+04  34856.000000  34856.000000  26640.000000   \n",
       "mean       3.031012  1.050173e+06     11.184929   3116.062859      3.084647   \n",
       "std        0.969933  6.414671e+05      6.788892    109.023903      0.980690   \n",
       "min        1.000000  8.500000e+04      0.000000   3000.000000      0.000000   \n",
       "25%        2.000000  6.350000e+05      6.400000   3051.000000      2.000000   \n",
       "50%        3.000000  8.700000e+05     10.300000   3103.000000      3.000000   \n",
       "75%        4.000000  1.295000e+06     14.000000   3156.000000      4.000000   \n",
       "max       16.000000  1.120000e+07     48.100000   3978.000000     30.000000   \n",
       "\n",
       "           Bathroom           Car       Landsize  BuildingArea     YearBuilt  \\\n",
       "count  26631.000000  26129.000000   23047.000000   13742.00000  15551.000000   \n",
       "mean       1.624798      1.728845     593.598993     160.25640   1965.289885   \n",
       "std        0.724212      1.010771    3398.841946     401.26706     37.328178   \n",
       "min        0.000000      0.000000       0.000000       0.00000   1196.000000   \n",
       "25%        1.000000      1.000000     224.000000     102.00000   1940.000000   \n",
       "50%        2.000000      2.000000     521.000000     136.00000   1970.000000   \n",
       "75%        2.000000      2.000000     670.000000     188.00000   2000.000000   \n",
       "max       12.000000     26.000000  433014.000000   44515.00000   2106.000000   \n",
       "\n",
       "          Lattitude    Longtitude  Propertycount  \n",
       "count  26881.000000  26881.000000   34854.000000  \n",
       "mean     -37.810634    145.001851    7572.888306  \n",
       "std        0.090279      0.120169    4428.090313  \n",
       "min      -38.190430    144.423790      83.000000  \n",
       "25%      -37.862950    144.933500    4385.000000  \n",
       "50%      -37.807600    145.007800    6763.000000  \n",
       "75%      -37.754100    145.071900   10412.000000  \n",
       "max      -37.390200    145.526350   21650.000000  "
      ]
     },
     "execution_count": 7,
     "metadata": {},
     "output_type": "execute_result"
    }
   ],
   "source": [
    "Melbourne_house.describe()"
   ]
  },
  {
   "cell_type": "code",
   "execution_count": 8,
   "id": "1830759c",
   "metadata": {},
   "outputs": [
    {
     "data": {
      "text/plain": [
       "Suburb               0\n",
       "Address              0\n",
       "Rooms                0\n",
       "Type                 0\n",
       "Price             7610\n",
       "Method               0\n",
       "SellerG              0\n",
       "Date                 0\n",
       "Distance             1\n",
       "Postcode             1\n",
       "Bedroom2          8217\n",
       "Bathroom          8226\n",
       "Car               8728\n",
       "Landsize         11810\n",
       "BuildingArea     21115\n",
       "YearBuilt        19306\n",
       "CouncilArea          3\n",
       "Lattitude         7976\n",
       "Longtitude        7976\n",
       "Regionname           3\n",
       "Propertycount        3\n",
       "dtype: int64"
      ]
     },
     "execution_count": 8,
     "metadata": {},
     "output_type": "execute_result"
    }
   ],
   "source": [
    "Melbourne_house.isnull().sum()  # checking missing value"
   ]
  },
  {
   "cell_type": "code",
   "execution_count": 9,
   "id": "eb8cc47c",
   "metadata": {},
   "outputs": [
    {
     "data": {
      "text/plain": [
       "<Axes: xlabel='Price', ylabel='Count'>"
      ]
     },
     "execution_count": 9,
     "metadata": {},
     "output_type": "execute_result"
    },
    {
     "data": {
      "image/png": "[encoded data removed]",
      "text/plain": [
       "<Figure size 640x480 with 1 Axes>"
      ]
     },
     "metadata": {},
     "output_type": "display_data"
    }
   ],
   "source": [
    "sns.histplot(x='Price', data=Melbourne_house, kde=True)"
   ]
  },
  {
   "cell_type": "markdown",
   "id": "64208d07",
   "metadata": {},
   "source": [
    "from the above data is skewed and have outliers, so use median for missing value treatement"
   ]
  },
  {
   "cell_type": "code",
   "execution_count": 10,
   "id": "7cc43ffa",
   "metadata": {},
   "outputs": [],
   "source": [
    "Melbourne_house['Price'].fillna(Melbourne_house['Price'].median(), inplace = True)"
   ]
  },
  {
   "cell_type": "code",
   "execution_count": 11,
   "id": "2d5af388",
   "metadata": {},
   "outputs": [
    {
     "data": {
      "text/plain": [
       "Suburb               0\n",
       "Address              0\n",
       "Rooms                0\n",
       "Type                 0\n",
       "Price                0\n",
       "Method               0\n",
       "SellerG              0\n",
       "Date                 0\n",
       "Distance             1\n",
       "Postcode             1\n",
       "Bedroom2          8217\n",
       "Bathroom          8226\n",
       "Car               8728\n",
       "Landsize         11810\n",
       "BuildingArea     21115\n",
       "YearBuilt        19306\n",
       "CouncilArea          3\n",
       "Lattitude         7976\n",
       "Longtitude        7976\n",
       "Regionname           3\n",
       "Propertycount        3\n",
       "dtype: int64"
      ]
     },
     "execution_count": 11,
     "metadata": {},
     "output_type": "execute_result"
    }
   ],
   "source": [
    "Melbourne_house.isnull().sum()  # checking missing value of price"
   ]
  },
  {
   "cell_type": "code",
   "execution_count": 12,
   "id": "408d811a",
   "metadata": {},
   "outputs": [
    {
     "data": {
      "text/plain": [
       "<Axes: xlabel='Distance', ylabel='Count'>"
      ]
     },
     "execution_count": 12,
     "metadata": {},
     "output_type": "execute_result"
    },
    {
     "data": {
      "image/png": "[encoded data removed]",
      "text/plain": [
       "<Figure size 640x480 with 1 Axes>"
      ]
     },
     "metadata": {},
     "output_type": "display_data"
    }
   ],
   "source": [
    "sns.histplot(x='Distance', data=Melbourne_house, kde=True)"
   ]
  },
  {
   "cell_type": "markdown",
   "id": "8fe83433",
   "metadata": {},
   "source": [
    "from above, use mean for missing value "
   ]
  },
  {
   "cell_type": "code",
   "execution_count": 13,
   "id": "11772bc4",
   "metadata": {},
   "outputs": [
    {
     "data": {
      "text/plain": [
       "<bound method Series.unique of 0        2.5\n",
       "1        2.5\n",
       "2        2.5\n",
       "3        2.5\n",
       "4        2.5\n",
       "        ... \n",
       "34852    6.3\n",
       "34853    6.3\n",
       "34854    6.3\n",
       "34855    6.3\n",
       "34856    6.3\n",
       "Name: Distance, Length: 34857, dtype: float64>"
      ]
     },
     "execution_count": 13,
     "metadata": {},
     "output_type": "execute_result"
    }
   ],
   "source": [
    "Melbourne_house['Distance'].unique"
   ]
  },
  {
   "cell_type": "code",
   "execution_count": 14,
   "id": "a9846836",
   "metadata": {},
   "outputs": [],
   "source": [
    "Melbourne_house['Distance'].fillna(Melbourne_house['Distance'].mean(), inplace = True)"
   ]
  },
  {
   "cell_type": "code",
   "execution_count": 15,
   "id": "cdd7a11d",
   "metadata": {},
   "outputs": [
    {
     "data": {
      "text/plain": [
       "Suburb               0\n",
       "Address              0\n",
       "Rooms                0\n",
       "Type                 0\n",
       "Price                0\n",
       "Method               0\n",
       "SellerG              0\n",
       "Date                 0\n",
       "Distance             0\n",
       "Postcode             1\n",
       "Bedroom2          8217\n",
       "Bathroom          8226\n",
       "Car               8728\n",
       "Landsize         11810\n",
       "BuildingArea     21115\n",
       "YearBuilt        19306\n",
       "CouncilArea          3\n",
       "Lattitude         7976\n",
       "Longtitude        7976\n",
       "Regionname           3\n",
       "Propertycount        3\n",
       "dtype: int64"
      ]
     },
     "execution_count": 15,
     "metadata": {},
     "output_type": "execute_result"
    }
   ],
   "source": [
    "Melbourne_house.isnull().sum()  # checking missing value of Distance"
   ]
  },
  {
   "cell_type": "code",
   "execution_count": 16,
   "id": "0a06d74c",
   "metadata": {},
   "outputs": [
    {
     "data": {
      "text/plain": [
       "<Axes: xlabel='Postcode', ylabel='Count'>"
      ]
     },
     "execution_count": 16,
     "metadata": {},
     "output_type": "execute_result"
    },
    {
     "data": {
      "image/png": "[encoded data removed]",
      "text/plain": [
       "<Figure size 640x480 with 1 Axes>"
      ]
     },
     "metadata": {},
     "output_type": "display_data"
    }
   ],
   "source": [
    "sns.histplot(x='Postcode', data=Melbourne_house, kde=True)"
   ]
  },
  {
   "cell_type": "markdown",
   "id": "964da8c1",
   "metadata": {},
   "source": [
    "from the above data is skewed, so use median for missing value treatement"
   ]
  },
  {
   "cell_type": "code",
   "execution_count": 17,
   "id": "c1b1b9e7",
   "metadata": {},
   "outputs": [],
   "source": [
    "Melbourne_house['Postcode'].fillna(Melbourne_house['Postcode'].median(), inplace = True)"
   ]
  },
  {
   "cell_type": "code",
   "execution_count": 18,
   "id": "493aa173",
   "metadata": {},
   "outputs": [
    {
     "data": {
      "text/plain": [
       "Suburb               0\n",
       "Address              0\n",
       "Rooms                0\n",
       "Type                 0\n",
       "Price                0\n",
       "Method               0\n",
       "SellerG              0\n",
       "Date                 0\n",
       "Distance             0\n",
       "Postcode             0\n",
       "Bedroom2          8217\n",
       "Bathroom          8226\n",
       "Car               8728\n",
       "Landsize         11810\n",
       "BuildingArea     21115\n",
       "YearBuilt        19306\n",
       "CouncilArea          3\n",
       "Lattitude         7976\n",
       "Longtitude        7976\n",
       "Regionname           3\n",
       "Propertycount        3\n",
       "dtype: int64"
      ]
     },
     "execution_count": 18,
     "metadata": {},
     "output_type": "execute_result"
    }
   ],
   "source": [
    "Melbourne_house.isnull().sum()  # checking missing value of Postcode"
   ]
  },
  {
   "cell_type": "code",
   "execution_count": 19,
   "id": "8fe58ba3",
   "metadata": {},
   "outputs": [
    {
     "data": {
      "text/plain": [
       "<Axes: xlabel='Bedroom2', ylabel='Count'>"
      ]
     },
     "execution_count": 19,
     "metadata": {},
     "output_type": "execute_result"
    },
    {
     "data": {
      "image/png": "[encoded data removed]",
      "text/plain": [
       "<Figure size 640x480 with 1 Axes>"
      ]
     },
     "metadata": {},
     "output_type": "display_data"
    }
   ],
   "source": [
    "sns.histplot(x='Bedroom2', data=Melbourne_house, kde=True)"
   ]
  },
  {
   "cell_type": "code",
   "execution_count": 20,
   "id": "562e5ad6",
   "metadata": {},
   "outputs": [
    {
     "data": {
      "text/plain": [
       "Suburb               0\n",
       "Address              0\n",
       "Rooms                0\n",
       "Type                 0\n",
       "Price                0\n",
       "Method               0\n",
       "SellerG              0\n",
       "Date                 0\n",
       "Distance             0\n",
       "Postcode             0\n",
       "Bedroom2          8217\n",
       "Bathroom          8226\n",
       "Car               8728\n",
       "Landsize         11810\n",
       "BuildingArea     21115\n",
       "YearBuilt        19306\n",
       "CouncilArea          3\n",
       "Lattitude         7976\n",
       "Longtitude        7976\n",
       "Regionname           3\n",
       "Propertycount        3\n",
       "dtype: int64"
      ]
     },
     "execution_count": 20,
     "metadata": {},
     "output_type": "execute_result"
    }
   ],
   "source": [
    "Melbourne_house.isnull().sum()  # checking missing value of Bedroom2"
   ]
  },
  {
   "cell_type": "code",
   "execution_count": 21,
   "id": "7b323cdc",
   "metadata": {},
   "outputs": [
    {
     "data": {
      "text/plain": [
       "3.0     11881\n",
       "4.0      6348\n",
       "2.0      5777\n",
       "5.0      1427\n",
       "1.0       966\n",
       "6.0       168\n",
       "7.0        30\n",
       "0.0        17\n",
       "8.0        13\n",
       "9.0         5\n",
       "10.0        4\n",
       "30.0        1\n",
       "20.0        1\n",
       "16.0        1\n",
       "12.0        1\n",
       "Name: Bedroom2, dtype: int64"
      ]
     },
     "execution_count": 21,
     "metadata": {},
     "output_type": "execute_result"
    }
   ],
   "source": [
    "Melbourne_house.Bedroom2.value_counts()"
   ]
  },
  {
   "cell_type": "markdown",
   "id": "f75cff7c",
   "metadata": {},
   "source": [
    "1 is repetting more number of times so replace with 1 "
   ]
  },
  {
   "cell_type": "code",
   "execution_count": 22,
   "id": "28152a9a",
   "metadata": {},
   "outputs": [],
   "source": [
    "Melbourne_house['Bedroom2'].fillna(1, inplace= True)"
   ]
  },
  {
   "cell_type": "code",
   "execution_count": 23,
   "id": "1ce23d93",
   "metadata": {},
   "outputs": [
    {
     "data": {
      "text/plain": [
       "Suburb               0\n",
       "Address              0\n",
       "Rooms                0\n",
       "Type                 0\n",
       "Price                0\n",
       "Method               0\n",
       "SellerG              0\n",
       "Date                 0\n",
       "Distance             0\n",
       "Postcode             0\n",
       "Bedroom2             0\n",
       "Bathroom          8226\n",
       "Car               8728\n",
       "Landsize         11810\n",
       "BuildingArea     21115\n",
       "YearBuilt        19306\n",
       "CouncilArea          3\n",
       "Lattitude         7976\n",
       "Longtitude        7976\n",
       "Regionname           3\n",
       "Propertycount        3\n",
       "dtype: int64"
      ]
     },
     "execution_count": 23,
     "metadata": {},
     "output_type": "execute_result"
    }
   ],
   "source": [
    "Melbourne_house.isnull().sum()  # checking missing value of Bedroom2"
   ]
  },
  {
   "cell_type": "code",
   "execution_count": 24,
   "id": "645f23c3",
   "metadata": {},
   "outputs": [
    {
     "data": {
      "text/plain": [
       "<Axes: xlabel='Bathroom', ylabel='Count'>"
      ]
     },
     "execution_count": 24,
     "metadata": {},
     "output_type": "execute_result"
    },
    {
     "data": {
      "image/png": "[encoded data removed]",
      "text/plain": [
       "<Figure size 640x480 with 1 Axes>"
      ]
     },
     "metadata": {},
     "output_type": "display_data"
    }
   ],
   "source": [
    "sns.histplot(x='Bathroom', data=Melbourne_house, kde=True)"
   ]
  },
  {
   "cell_type": "code",
   "execution_count": 25,
   "id": "0fe50230",
   "metadata": {},
   "outputs": [
    {
     "data": {
      "text/plain": [
       "1.0     12969\n",
       "2.0     11064\n",
       "3.0      2181\n",
       "4.0       269\n",
       "5.0        77\n",
       "0.0        46\n",
       "6.0        16\n",
       "7.0         4\n",
       "8.0         3\n",
       "12.0        1\n",
       "9.0         1\n",
       "Name: Bathroom, dtype: int64"
      ]
     },
     "execution_count": 25,
     "metadata": {},
     "output_type": "execute_result"
    }
   ],
   "source": [
    "Melbourne_house.Bathroom.value_counts()"
   ]
  },
  {
   "cell_type": "markdown",
   "id": "c2995350",
   "metadata": {},
   "source": [
    "1 is repetting more number of times so replace with 1"
   ]
  },
  {
   "cell_type": "code",
   "execution_count": 26,
   "id": "fc7e42af",
   "metadata": {},
   "outputs": [],
   "source": [
    "Melbourne_house['Bathroom'].fillna(1, inplace= True)"
   ]
  },
  {
   "cell_type": "code",
   "execution_count": 27,
   "id": "8d166fbd",
   "metadata": {},
   "outputs": [
    {
     "data": {
      "text/plain": [
       "Suburb               0\n",
       "Address              0\n",
       "Rooms                0\n",
       "Type                 0\n",
       "Price                0\n",
       "Method               0\n",
       "SellerG              0\n",
       "Date                 0\n",
       "Distance             0\n",
       "Postcode             0\n",
       "Bedroom2             0\n",
       "Bathroom             0\n",
       "Car               8728\n",
       "Landsize         11810\n",
       "BuildingArea     21115\n",
       "YearBuilt        19306\n",
       "CouncilArea          3\n",
       "Lattitude         7976\n",
       "Longtitude        7976\n",
       "Regionname           3\n",
       "Propertycount        3\n",
       "dtype: int64"
      ]
     },
     "execution_count": 27,
     "metadata": {},
     "output_type": "execute_result"
    }
   ],
   "source": [
    "Melbourne_house.isnull().sum()  # checking missing value of Bathroom"
   ]
  },
  {
   "cell_type": "code",
   "execution_count": 28,
   "id": "7b49eeb2",
   "metadata": {},
   "outputs": [
    {
     "data": {
      "text/plain": [
       "<Axes: xlabel='Car', ylabel='Count'>"
      ]
     },
     "execution_count": 28,
     "metadata": {},
     "output_type": "execute_result"
    },
    {
     "data": {
      "image/png": "[encoded data removed]",
      "text/plain": [
       "<Figure size 640x480 with 1 Axes>"
      ]
     },
     "metadata": {},
     "output_type": "display_data"
    }
   ],
   "source": [
    "sns.histplot(x='Car', data=Melbourne_house, kde=True)"
   ]
  },
  {
   "cell_type": "markdown",
   "id": "91d8aa5c",
   "metadata": {},
   "source": [
    "from the above, use mean for missing value treatement"
   ]
  },
  {
   "cell_type": "code",
   "execution_count": 29,
   "id": "1ae2f3d3",
   "metadata": {},
   "outputs": [],
   "source": [
    "Melbourne_house['Car'].fillna(Melbourne_house['Car'].mean(), inplace = True)"
   ]
  },
  {
   "cell_type": "code",
   "execution_count": 30,
   "id": "13c5a26e",
   "metadata": {},
   "outputs": [
    {
     "data": {
      "text/plain": [
       "Suburb               0\n",
       "Address              0\n",
       "Rooms                0\n",
       "Type                 0\n",
       "Price                0\n",
       "Method               0\n",
       "SellerG              0\n",
       "Date                 0\n",
       "Distance             0\n",
       "Postcode             0\n",
       "Bedroom2             0\n",
       "Bathroom             0\n",
       "Car                  0\n",
       "Landsize         11810\n",
       "BuildingArea     21115\n",
       "YearBuilt        19306\n",
       "CouncilArea          3\n",
       "Lattitude         7976\n",
       "Longtitude        7976\n",
       "Regionname           3\n",
       "Propertycount        3\n",
       "dtype: int64"
      ]
     },
     "execution_count": 30,
     "metadata": {},
     "output_type": "execute_result"
    }
   ],
   "source": [
    "Melbourne_house.isnull().sum()  # checking missing value of Car"
   ]
  },
  {
   "cell_type": "code",
   "execution_count": 31,
   "id": "4679edcc",
   "metadata": {},
   "outputs": [
    {
     "data": {
      "text/plain": [
       "<Axes: xlabel='Landsize', ylabel='Count'>"
      ]
     },
     "execution_count": 31,
     "metadata": {},
     "output_type": "execute_result"
    },
    {
     "data": {
      "image/png": "[encoded data removed]",
      "text/plain": [
       "<Figure size 640x480 with 1 Axes>"
      ]
     },
     "metadata": {},
     "output_type": "display_data"
    }
   ],
   "source": [
    "sns.histplot(x='Landsize', data=Melbourne_house, kde=True)"
   ]
  },
  {
   "cell_type": "markdown",
   "id": "68a78c99",
   "metadata": {},
   "source": [
    "from the above, use mean for missing value treatement"
   ]
  },
  {
   "cell_type": "code",
   "execution_count": 32,
   "id": "9e629bab",
   "metadata": {},
   "outputs": [],
   "source": [
    "Melbourne_house['Landsize'].fillna(Melbourne_house['Landsize'].mean(), inplace = True)"
   ]
  },
  {
   "cell_type": "code",
   "execution_count": 33,
   "id": "b4d6db63",
   "metadata": {},
   "outputs": [
    {
     "data": {
      "text/plain": [
       "Suburb               0\n",
       "Address              0\n",
       "Rooms                0\n",
       "Type                 0\n",
       "Price                0\n",
       "Method               0\n",
       "SellerG              0\n",
       "Date                 0\n",
       "Distance             0\n",
       "Postcode             0\n",
       "Bedroom2             0\n",
       "Bathroom             0\n",
       "Car                  0\n",
       "Landsize             0\n",
       "BuildingArea     21115\n",
       "YearBuilt        19306\n",
       "CouncilArea          3\n",
       "Lattitude         7976\n",
       "Longtitude        7976\n",
       "Regionname           3\n",
       "Propertycount        3\n",
       "dtype: int64"
      ]
     },
     "execution_count": 33,
     "metadata": {},
     "output_type": "execute_result"
    }
   ],
   "source": [
    "Melbourne_house.isnull().sum()  # checking missing value of Landsize"
   ]
  },
  {
   "cell_type": "code",
   "execution_count": 34,
   "id": "60133d08",
   "metadata": {},
   "outputs": [
    {
     "data": {
      "text/plain": [
       "<Axes: xlabel='BuildingArea', ylabel='Count'>"
      ]
     },
     "execution_count": 34,
     "metadata": {},
     "output_type": "execute_result"
    },
    {
     "data": {
      "image/png": "[encoded data removed]",
      "text/plain": [
       "<Figure size 640x480 with 1 Axes>"
      ]
     },
     "metadata": {},
     "output_type": "display_data"
    }
   ],
   "source": [
    "sns.histplot(x='BuildingArea', data=Melbourne_house, kde=True)"
   ]
  },
  {
   "cell_type": "markdown",
   "id": "b63d60cd",
   "metadata": {},
   "source": [
    "from the above, use mean for missing value treatement"
   ]
  },
  {
   "cell_type": "code",
   "execution_count": 35,
   "id": "11c6fe3c",
   "metadata": {},
   "outputs": [],
   "source": [
    "Melbourne_house['BuildingArea'].fillna(Melbourne_house['BuildingArea'].mean(), inplace = True)"
   ]
  },
  {
   "cell_type": "code",
   "execution_count": 36,
   "id": "a34c37d9",
   "metadata": {},
   "outputs": [
    {
     "data": {
      "text/plain": [
       "Suburb               0\n",
       "Address              0\n",
       "Rooms                0\n",
       "Type                 0\n",
       "Price                0\n",
       "Method               0\n",
       "SellerG              0\n",
       "Date                 0\n",
       "Distance             0\n",
       "Postcode             0\n",
       "Bedroom2             0\n",
       "Bathroom             0\n",
       "Car                  0\n",
       "Landsize             0\n",
       "BuildingArea         0\n",
       "YearBuilt        19306\n",
       "CouncilArea          3\n",
       "Lattitude         7976\n",
       "Longtitude        7976\n",
       "Regionname           3\n",
       "Propertycount        3\n",
       "dtype: int64"
      ]
     },
     "execution_count": 36,
     "metadata": {},
     "output_type": "execute_result"
    }
   ],
   "source": [
    "Melbourne_house.isnull().sum()  # checking missing value of BuildingArea"
   ]
  },
  {
   "cell_type": "code",
   "execution_count": 37,
   "id": "27e0e3cd",
   "metadata": {},
   "outputs": [
    {
     "data": {
      "text/plain": [
       "<Axes: xlabel='YearBuilt', ylabel='Count'>"
      ]
     },
     "execution_count": 37,
     "metadata": {},
     "output_type": "execute_result"
    },
    {
     "data": {
      "image/png": "[encoded data removed]",
      "text/plain": [
       "<Figure size 640x480 with 1 Axes>"
      ]
     },
     "metadata": {},
     "output_type": "display_data"
    }
   ],
   "source": [
    "sns.histplot(x='YearBuilt', data=Melbourne_house, kde=True)"
   ]
  },
  {
   "cell_type": "markdown",
   "id": "8b3d0f86",
   "metadata": {},
   "source": [
    "from the above, use mean for missing value treatement"
   ]
  },
  {
   "cell_type": "code",
   "execution_count": 38,
   "id": "62fcf1d3",
   "metadata": {},
   "outputs": [],
   "source": [
    "Melbourne_house['YearBuilt'].fillna(Melbourne_house['YearBuilt'].mean(), inplace = True)"
   ]
  },
  {
   "cell_type": "code",
   "execution_count": 39,
   "id": "288bee63",
   "metadata": {},
   "outputs": [
    {
     "data": {
      "text/plain": [
       "Suburb              0\n",
       "Address             0\n",
       "Rooms               0\n",
       "Type                0\n",
       "Price               0\n",
       "Method              0\n",
       "SellerG             0\n",
       "Date                0\n",
       "Distance            0\n",
       "Postcode            0\n",
       "Bedroom2            0\n",
       "Bathroom            0\n",
       "Car                 0\n",
       "Landsize            0\n",
       "BuildingArea        0\n",
       "YearBuilt           0\n",
       "CouncilArea         3\n",
       "Lattitude        7976\n",
       "Longtitude       7976\n",
       "Regionname          3\n",
       "Propertycount       3\n",
       "dtype: int64"
      ]
     },
     "execution_count": 39,
     "metadata": {},
     "output_type": "execute_result"
    }
   ],
   "source": [
    "Melbourne_house.isnull().sum()  # checking missing value of YearBuilt"
   ]
  },
  {
   "cell_type": "code",
   "execution_count": 40,
   "id": "37ae884b",
   "metadata": {},
   "outputs": [
    {
     "data": {
      "text/plain": [
       "<Axes: xlabel='Lattitude', ylabel='Count'>"
      ]
     },
     "execution_count": 40,
     "metadata": {},
     "output_type": "execute_result"
    },
    {
     "data": {
      "image/png": "[encoded data removed]",
      "text/plain": [
       "<Figure size 640x480 with 1 Axes>"
      ]
     },
     "metadata": {},
     "output_type": "display_data"
    }
   ],
   "source": [
    "sns.histplot(x='Lattitude', data=Melbourne_house, kde=True)"
   ]
  },
  {
   "cell_type": "code",
   "execution_count": 41,
   "id": "014302db",
   "metadata": {},
   "outputs": [],
   "source": [
    "Melbourne_house['Lattitude'].fillna(method = 'ffill', inplace = True)"
   ]
  },
  {
   "cell_type": "code",
   "execution_count": 42,
   "id": "fa7a5501",
   "metadata": {},
   "outputs": [
    {
     "data": {
      "text/plain": [
       "Suburb              0\n",
       "Address             0\n",
       "Rooms               0\n",
       "Type                0\n",
       "Price               0\n",
       "Method              0\n",
       "SellerG             0\n",
       "Date                0\n",
       "Distance            0\n",
       "Postcode            0\n",
       "Bedroom2            0\n",
       "Bathroom            0\n",
       "Car                 0\n",
       "Landsize            0\n",
       "BuildingArea        0\n",
       "YearBuilt           0\n",
       "CouncilArea         3\n",
       "Lattitude           0\n",
       "Longtitude       7976\n",
       "Regionname          3\n",
       "Propertycount       3\n",
       "dtype: int64"
      ]
     },
     "execution_count": 42,
     "metadata": {},
     "output_type": "execute_result"
    }
   ],
   "source": [
    "Melbourne_house.isnull().sum()  # checking missing value of Lattitude"
   ]
  },
  {
   "cell_type": "code",
   "execution_count": 43,
   "id": "45acf59a",
   "metadata": {},
   "outputs": [
    {
     "data": {
      "text/plain": [
       "<Axes: xlabel='Longtitude', ylabel='Count'>"
      ]
     },
     "execution_count": 43,
     "metadata": {},
     "output_type": "execute_result"
    },
    {
     "data": {
      "image/png": "[encoded data removed]",
      "text/plain": [
       "<Figure size 640x480 with 1 Axes>"
      ]
     },
     "metadata": {},
     "output_type": "display_data"
    }
   ],
   "source": [
    "sns.histplot(x='Longtitude', data=Melbourne_house, kde=True)"
   ]
  },
  {
   "cell_type": "code",
   "execution_count": 44,
   "id": "0be1c5d4",
   "metadata": {},
   "outputs": [],
   "source": [
    "Melbourne_house['Longtitude'].fillna(method = 'ffill', inplace = True)"
   ]
  },
  {
   "cell_type": "code",
   "execution_count": 45,
   "id": "04165f52",
   "metadata": {},
   "outputs": [
    {
     "data": {
      "text/plain": [
       "Suburb           0\n",
       "Address          0\n",
       "Rooms            0\n",
       "Type             0\n",
       "Price            0\n",
       "Method           0\n",
       "SellerG          0\n",
       "Date             0\n",
       "Distance         0\n",
       "Postcode         0\n",
       "Bedroom2         0\n",
       "Bathroom         0\n",
       "Car              0\n",
       "Landsize         0\n",
       "BuildingArea     0\n",
       "YearBuilt        0\n",
       "CouncilArea      3\n",
       "Lattitude        0\n",
       "Longtitude       0\n",
       "Regionname       3\n",
       "Propertycount    3\n",
       "dtype: int64"
      ]
     },
     "execution_count": 45,
     "metadata": {},
     "output_type": "execute_result"
    }
   ],
   "source": [
    "Melbourne_house.isnull().sum()  # checking missing value of Lattitude"
   ]
  },
  {
   "cell_type": "code",
   "execution_count": 46,
   "id": "76c8be61",
   "metadata": {},
   "outputs": [
    {
     "data": {
      "text/plain": [
       "<Axes: xlabel='Propertycount', ylabel='Count'>"
      ]
     },
     "execution_count": 46,
     "metadata": {},
     "output_type": "execute_result"
    },
    {
     "data": {
      "image/png": "[encoded data removed]",
      "text/plain": [
       "<Figure size 640x480 with 1 Axes>"
      ]
     },
     "metadata": {},
     "output_type": "display_data"
    }
   ],
   "source": [
    "sns.histplot(x='Propertycount', data=Melbourne_house, kde=True)"
   ]
  },
  {
   "cell_type": "code",
   "execution_count": 47,
   "id": "3c0e1c21",
   "metadata": {},
   "outputs": [],
   "source": [
    "Melbourne_house['Propertycount'].fillna(method = 'ffill', inplace = True)"
   ]
  },
  {
   "cell_type": "code",
   "execution_count": 48,
   "id": "8f7c6ea4",
   "metadata": {},
   "outputs": [
    {
     "data": {
      "text/plain": [
       "Suburb           0\n",
       "Address          0\n",
       "Rooms            0\n",
       "Type             0\n",
       "Price            0\n",
       "Method           0\n",
       "SellerG          0\n",
       "Date             0\n",
       "Distance         0\n",
       "Postcode         0\n",
       "Bedroom2         0\n",
       "Bathroom         0\n",
       "Car              0\n",
       "Landsize         0\n",
       "BuildingArea     0\n",
       "YearBuilt        0\n",
       "CouncilArea      3\n",
       "Lattitude        0\n",
       "Longtitude       0\n",
       "Regionname       3\n",
       "Propertycount    0\n",
       "dtype: int64"
      ]
     },
     "execution_count": 48,
     "metadata": {},
     "output_type": "execute_result"
    }
   ],
   "source": [
    "Melbourne_house.isnull().sum()  # checking missing value"
   ]
  },
  {
   "cell_type": "markdown",
   "id": "74d687dc",
   "metadata": {},
   "source": [
    "here change CouncilArea and Regionname base on the postcode."
   ]
  },
  {
   "cell_type": "code",
   "execution_count": 49,
   "id": "a9d1881c",
   "metadata": {},
   "outputs": [
    {
     "data": {
      "text/plain": [
       "Southern Metropolitan         11836\n",
       "Northern Metropolitan          9557\n",
       "Western Metropolitan           6799\n",
       "Eastern Metropolitan           4377\n",
       "South-Eastern Metropolitan     1739\n",
       "Eastern Victoria                228\n",
       "Northern Victoria               203\n",
       "Western Victoria                115\n",
       "Name: Regionname, dtype: int64"
      ]
     },
     "execution_count": 49,
     "metadata": {},
     "output_type": "execute_result"
    }
   ],
   "source": [
    "Melbourne_house['Regionname'].value_counts()"
   ]
  },
  {
   "cell_type": "code",
   "execution_count": 50,
   "id": "05c5cb9b",
   "metadata": {},
   "outputs": [
    {
     "data": {
      "text/plain": [
       "array(['Northern Metropolitan', 'Western Metropolitan',\n",
       "       'Southern Metropolitan', 'Eastern Metropolitan',\n",
       "       'South-Eastern Metropolitan', 'Eastern Victoria',\n",
       "       'Northern Victoria', 'Western Victoria', nan], dtype=object)"
      ]
     },
     "execution_count": 50,
     "metadata": {},
     "output_type": "execute_result"
    }
   ],
   "source": [
    "Melbourne_house['Regionname'].unique()"
   ]
  },
  {
   "cell_type": "code",
   "execution_count": 51,
   "id": "a304adc1",
   "metadata": {},
   "outputs": [
    {
     "data": {
      "text/plain": [
       "Boroondara City Council           3675\n",
       "Darebin City Council              2851\n",
       "Moreland City Council             2122\n",
       "Glen Eira City Council            2006\n",
       "Melbourne City Council            1952\n",
       "Banyule City Council              1861\n",
       "Moonee Valley City Council        1791\n",
       "Bayside City Council              1764\n",
       "Brimbank City Council             1593\n",
       "Monash City Council               1466\n",
       "Stonnington City Council          1460\n",
       "Maribyrnong City Council          1451\n",
       "Port Phillip City Council         1280\n",
       "Hume City Council                 1214\n",
       "Yarra City Council                1186\n",
       "Manningham City Council           1046\n",
       "Hobsons Bay City Council           942\n",
       "Kingston City Council              871\n",
       "Whittlesea City Council            828\n",
       "Wyndham City Council               624\n",
       "Whitehorse City Council            618\n",
       "Maroondah City Council             506\n",
       "Knox City Council                  371\n",
       "Greater Dandenong City Council     314\n",
       "Melton City Council                292\n",
       "Frankston City Council             290\n",
       "Casey City Council                 176\n",
       "Yarra Ranges Shire Council         102\n",
       "Nillumbik Shire Council             88\n",
       "Macedon Ranges Shire Council        46\n",
       "Cardinia Shire Council              41\n",
       "Mitchell Shire Council              20\n",
       "Moorabool Shire Council              7\n",
       "Name: CouncilArea, dtype: int64"
      ]
     },
     "execution_count": 51,
     "metadata": {},
     "output_type": "execute_result"
    }
   ],
   "source": [
    "Melbourne_house['CouncilArea'].value_counts()"
   ]
  },
  {
   "cell_type": "code",
   "execution_count": 52,
   "id": "4fb3cd2b",
   "metadata": {},
   "outputs": [
    {
     "data": {
      "text/html": [
       "<div>\n",
       "<style scoped>\n",
       "    .dataframe tbody tr th:only-of-type {\n",
       "        vertical-align: middle;\n",
       "    }\n",
       "\n",
       "    .dataframe tbody tr th {\n",
       "        vertical-align: top;\n",
       "    }\n",
       "\n",
       "    .dataframe thead th {\n",
       "        text-align: right;\n",
       "    }\n",
       "</style>\n",
       "<table border=\"1\" class=\"dataframe\">\n",
       "  <thead>\n",
       "    <tr style=\"text-align: right;\">\n",
       "      <th></th>\n",
       "      <th>Postcode</th>\n",
       "      <th>CouncilArea</th>\n",
       "      <th>Regionname</th>\n",
       "    </tr>\n",
       "  </thead>\n",
       "  <tbody>\n",
       "    <tr>\n",
       "      <th>18523</th>\n",
       "      <td>3011.0</td>\n",
       "      <td>NaN</td>\n",
       "      <td>NaN</td>\n",
       "    </tr>\n",
       "    <tr>\n",
       "      <th>26888</th>\n",
       "      <td>3124.0</td>\n",
       "      <td>NaN</td>\n",
       "      <td>NaN</td>\n",
       "    </tr>\n",
       "    <tr>\n",
       "      <th>29483</th>\n",
       "      <td>3103.0</td>\n",
       "      <td>NaN</td>\n",
       "      <td>NaN</td>\n",
       "    </tr>\n",
       "  </tbody>\n",
       "</table>\n",
       "</div>"
      ],
      "text/plain": [
       "       Postcode CouncilArea Regionname\n",
       "18523    3011.0         NaN        NaN\n",
       "26888    3124.0         NaN        NaN\n",
       "29483    3103.0         NaN        NaN"
      ]
     },
     "execution_count": 52,
     "metadata": {},
     "output_type": "execute_result"
    }
   ],
   "source": [
    "Melbourne_house.loc[(Melbourne_house['CouncilArea'].isna()) ,['Postcode','CouncilArea','Regionname']]"
   ]
  },
  {
   "cell_type": "code",
   "execution_count": 53,
   "id": "a6080df5",
   "metadata": {},
   "outputs": [
    {
     "data": {
      "text/html": [
       "<div>\n",
       "<style scoped>\n",
       "    .dataframe tbody tr th:only-of-type {\n",
       "        vertical-align: middle;\n",
       "    }\n",
       "\n",
       "    .dataframe tbody tr th {\n",
       "        vertical-align: top;\n",
       "    }\n",
       "\n",
       "    .dataframe thead th {\n",
       "        text-align: right;\n",
       "    }\n",
       "</style>\n",
       "<table border=\"1\" class=\"dataframe\">\n",
       "  <thead>\n",
       "    <tr style=\"text-align: right;\">\n",
       "      <th></th>\n",
       "      <th>Suburb</th>\n",
       "      <th>Address</th>\n",
       "      <th>Rooms</th>\n",
       "      <th>Type</th>\n",
       "      <th>Price</th>\n",
       "      <th>Method</th>\n",
       "      <th>SellerG</th>\n",
       "      <th>Date</th>\n",
       "      <th>Distance</th>\n",
       "      <th>Postcode</th>\n",
       "      <th>...</th>\n",
       "      <th>Bathroom</th>\n",
       "      <th>Car</th>\n",
       "      <th>Landsize</th>\n",
       "      <th>BuildingArea</th>\n",
       "      <th>YearBuilt</th>\n",
       "      <th>CouncilArea</th>\n",
       "      <th>Lattitude</th>\n",
       "      <th>Longtitude</th>\n",
       "      <th>Regionname</th>\n",
       "      <th>Propertycount</th>\n",
       "    </tr>\n",
       "  </thead>\n",
       "  <tbody>\n",
       "    <tr>\n",
       "      <th>4377</th>\n",
       "      <td>Footscray</td>\n",
       "      <td>4/33 Ballarat Rd</td>\n",
       "      <td>3</td>\n",
       "      <td>t</td>\n",
       "      <td>585000.0</td>\n",
       "      <td>S</td>\n",
       "      <td>Nelson</td>\n",
       "      <td>3/09/2016</td>\n",
       "      <td>6.4</td>\n",
       "      <td>3011.0</td>\n",
       "      <td>...</td>\n",
       "      <td>1.0</td>\n",
       "      <td>1.000000</td>\n",
       "      <td>259.000000</td>\n",
       "      <td>160.2564</td>\n",
       "      <td>1965.289885</td>\n",
       "      <td>Maribyrnong City Council</td>\n",
       "      <td>-37.79550</td>\n",
       "      <td>144.90630</td>\n",
       "      <td>Western Metropolitan</td>\n",
       "      <td>7570.0</td>\n",
       "    </tr>\n",
       "    <tr>\n",
       "      <th>4378</th>\n",
       "      <td>Footscray</td>\n",
       "      <td>202/51 Gordon St</td>\n",
       "      <td>1</td>\n",
       "      <td>u</td>\n",
       "      <td>85000.0</td>\n",
       "      <td>PI</td>\n",
       "      <td>Burnham</td>\n",
       "      <td>3/09/2016</td>\n",
       "      <td>6.4</td>\n",
       "      <td>3011.0</td>\n",
       "      <td>...</td>\n",
       "      <td>1.0</td>\n",
       "      <td>0.000000</td>\n",
       "      <td>0.000000</td>\n",
       "      <td>160.2564</td>\n",
       "      <td>2007.000000</td>\n",
       "      <td>Maribyrnong City Council</td>\n",
       "      <td>-37.79110</td>\n",
       "      <td>144.89000</td>\n",
       "      <td>Western Metropolitan</td>\n",
       "      <td>7570.0</td>\n",
       "    </tr>\n",
       "    <tr>\n",
       "      <th>4379</th>\n",
       "      <td>Footscray</td>\n",
       "      <td>4 Adelaide St</td>\n",
       "      <td>4</td>\n",
       "      <td>h</td>\n",
       "      <td>1225000.0</td>\n",
       "      <td>SP</td>\n",
       "      <td>Nelson</td>\n",
       "      <td>3/12/2016</td>\n",
       "      <td>6.4</td>\n",
       "      <td>3011.0</td>\n",
       "      <td>...</td>\n",
       "      <td>2.0</td>\n",
       "      <td>1.000000</td>\n",
       "      <td>319.000000</td>\n",
       "      <td>130.0000</td>\n",
       "      <td>1915.000000</td>\n",
       "      <td>Maribyrnong City Council</td>\n",
       "      <td>-37.79430</td>\n",
       "      <td>144.88750</td>\n",
       "      <td>Western Metropolitan</td>\n",
       "      <td>7570.0</td>\n",
       "    </tr>\n",
       "    <tr>\n",
       "      <th>4380</th>\n",
       "      <td>Footscray</td>\n",
       "      <td>11/44 Everard St</td>\n",
       "      <td>2</td>\n",
       "      <td>u</td>\n",
       "      <td>431000.0</td>\n",
       "      <td>SP</td>\n",
       "      <td>Jas</td>\n",
       "      <td>3/12/2016</td>\n",
       "      <td>6.4</td>\n",
       "      <td>3011.0</td>\n",
       "      <td>...</td>\n",
       "      <td>1.0</td>\n",
       "      <td>1.000000</td>\n",
       "      <td>0.000000</td>\n",
       "      <td>160.2564</td>\n",
       "      <td>1965.289885</td>\n",
       "      <td>Maribyrnong City Council</td>\n",
       "      <td>-37.79630</td>\n",
       "      <td>144.88530</td>\n",
       "      <td>Western Metropolitan</td>\n",
       "      <td>7570.0</td>\n",
       "    </tr>\n",
       "    <tr>\n",
       "      <th>4381</th>\n",
       "      <td>Footscray</td>\n",
       "      <td>9 Lynch St</td>\n",
       "      <td>3</td>\n",
       "      <td>h</td>\n",
       "      <td>1003000.0</td>\n",
       "      <td>S</td>\n",
       "      <td>Naison</td>\n",
       "      <td>3/12/2016</td>\n",
       "      <td>6.4</td>\n",
       "      <td>3011.0</td>\n",
       "      <td>...</td>\n",
       "      <td>1.0</td>\n",
       "      <td>1.000000</td>\n",
       "      <td>292.000000</td>\n",
       "      <td>98.0000</td>\n",
       "      <td>1900.000000</td>\n",
       "      <td>Maribyrnong City Council</td>\n",
       "      <td>-37.79700</td>\n",
       "      <td>144.90510</td>\n",
       "      <td>Western Metropolitan</td>\n",
       "      <td>7570.0</td>\n",
       "    </tr>\n",
       "    <tr>\n",
       "      <th>...</th>\n",
       "      <td>...</td>\n",
       "      <td>...</td>\n",
       "      <td>...</td>\n",
       "      <td>...</td>\n",
       "      <td>...</td>\n",
       "      <td>...</td>\n",
       "      <td>...</td>\n",
       "      <td>...</td>\n",
       "      <td>...</td>\n",
       "      <td>...</td>\n",
       "      <td>...</td>\n",
       "      <td>...</td>\n",
       "      <td>...</td>\n",
       "      <td>...</td>\n",
       "      <td>...</td>\n",
       "      <td>...</td>\n",
       "      <td>...</td>\n",
       "      <td>...</td>\n",
       "      <td>...</td>\n",
       "      <td>...</td>\n",
       "      <td>...</td>\n",
       "    </tr>\n",
       "    <tr>\n",
       "      <th>34257</th>\n",
       "      <td>Footscray</td>\n",
       "      <td>21 Stafford St</td>\n",
       "      <td>3</td>\n",
       "      <td>h</td>\n",
       "      <td>931000.0</td>\n",
       "      <td>SP</td>\n",
       "      <td>Jas</td>\n",
       "      <td>24/02/2018</td>\n",
       "      <td>5.1</td>\n",
       "      <td>3011.0</td>\n",
       "      <td>...</td>\n",
       "      <td>1.0</td>\n",
       "      <td>0.000000</td>\n",
       "      <td>240.000000</td>\n",
       "      <td>101.0000</td>\n",
       "      <td>1930.000000</td>\n",
       "      <td>Maribyrnong City Council</td>\n",
       "      <td>-37.79392</td>\n",
       "      <td>144.88418</td>\n",
       "      <td>Western Metropolitan</td>\n",
       "      <td>7570.0</td>\n",
       "    </tr>\n",
       "    <tr>\n",
       "      <th>34696</th>\n",
       "      <td>Seddon</td>\n",
       "      <td>38 Alfred St</td>\n",
       "      <td>3</td>\n",
       "      <td>h</td>\n",
       "      <td>870000.0</td>\n",
       "      <td>S</td>\n",
       "      <td>hockingstuart</td>\n",
       "      <td>24/02/2018</td>\n",
       "      <td>5.1</td>\n",
       "      <td>3011.0</td>\n",
       "      <td>...</td>\n",
       "      <td>2.0</td>\n",
       "      <td>2.000000</td>\n",
       "      <td>243.000000</td>\n",
       "      <td>132.0000</td>\n",
       "      <td>2000.000000</td>\n",
       "      <td>Maribyrnong City Council</td>\n",
       "      <td>-37.80573</td>\n",
       "      <td>144.88570</td>\n",
       "      <td>Western Metropolitan</td>\n",
       "      <td>2417.0</td>\n",
       "    </tr>\n",
       "    <tr>\n",
       "      <th>34697</th>\n",
       "      <td>Seddon</td>\n",
       "      <td>3/1 Florence St</td>\n",
       "      <td>2</td>\n",
       "      <td>h</td>\n",
       "      <td>900000.0</td>\n",
       "      <td>PI</td>\n",
       "      <td>hockingstuart</td>\n",
       "      <td>24/02/2018</td>\n",
       "      <td>5.1</td>\n",
       "      <td>3011.0</td>\n",
       "      <td>...</td>\n",
       "      <td>1.0</td>\n",
       "      <td>1.728845</td>\n",
       "      <td>593.598993</td>\n",
       "      <td>160.2564</td>\n",
       "      <td>1965.289885</td>\n",
       "      <td>Maribyrnong City Council</td>\n",
       "      <td>-37.80573</td>\n",
       "      <td>144.88570</td>\n",
       "      <td>Western Metropolitan</td>\n",
       "      <td>2417.0</td>\n",
       "    </tr>\n",
       "    <tr>\n",
       "      <th>34698</th>\n",
       "      <td>Seddon</td>\n",
       "      <td>23 Seddon St</td>\n",
       "      <td>3</td>\n",
       "      <td>h</td>\n",
       "      <td>870000.0</td>\n",
       "      <td>S</td>\n",
       "      <td>hockingstuart</td>\n",
       "      <td>24/02/2018</td>\n",
       "      <td>5.1</td>\n",
       "      <td>3011.0</td>\n",
       "      <td>...</td>\n",
       "      <td>1.0</td>\n",
       "      <td>1.000000</td>\n",
       "      <td>357.000000</td>\n",
       "      <td>357.0000</td>\n",
       "      <td>1978.000000</td>\n",
       "      <td>Maribyrnong City Council</td>\n",
       "      <td>-37.80846</td>\n",
       "      <td>144.88854</td>\n",
       "      <td>Western Metropolitan</td>\n",
       "      <td>2417.0</td>\n",
       "    </tr>\n",
       "    <tr>\n",
       "      <th>34699</th>\n",
       "      <td>Seddon</td>\n",
       "      <td>5 Seddon St</td>\n",
       "      <td>2</td>\n",
       "      <td>h</td>\n",
       "      <td>1120000.0</td>\n",
       "      <td>SP</td>\n",
       "      <td>Village</td>\n",
       "      <td>24/02/2018</td>\n",
       "      <td>5.1</td>\n",
       "      <td>3011.0</td>\n",
       "      <td>...</td>\n",
       "      <td>1.0</td>\n",
       "      <td>0.000000</td>\n",
       "      <td>177.000000</td>\n",
       "      <td>160.2564</td>\n",
       "      <td>1965.289885</td>\n",
       "      <td>Maribyrnong City Council</td>\n",
       "      <td>-37.80857</td>\n",
       "      <td>144.88963</td>\n",
       "      <td>Western Metropolitan</td>\n",
       "      <td>2417.0</td>\n",
       "    </tr>\n",
       "  </tbody>\n",
       "</table>\n",
       "<p>375 rows × 21 columns</p>\n",
       "</div>"
      ],
      "text/plain": [
       "          Suburb           Address  Rooms Type      Price Method  \\\n",
       "4377   Footscray  4/33 Ballarat Rd      3    t   585000.0      S   \n",
       "4378   Footscray  202/51 Gordon St      1    u    85000.0     PI   \n",
       "4379   Footscray     4 Adelaide St      4    h  1225000.0     SP   \n",
       "4380   Footscray  11/44 Everard St      2    u   431000.0     SP   \n",
       "4381   Footscray        9 Lynch St      3    h  1003000.0      S   \n",
       "...          ...               ...    ...  ...        ...    ...   \n",
       "34257  Footscray    21 Stafford St      3    h   931000.0     SP   \n",
       "34696     Seddon      38 Alfred St      3    h   870000.0      S   \n",
       "34697     Seddon   3/1 Florence St      2    h   900000.0     PI   \n",
       "34698     Seddon      23 Seddon St      3    h   870000.0      S   \n",
       "34699     Seddon       5 Seddon St      2    h  1120000.0     SP   \n",
       "\n",
       "             SellerG        Date  Distance  Postcode  ...  Bathroom       Car  \\\n",
       "4377          Nelson   3/09/2016       6.4    3011.0  ...       1.0  1.000000   \n",
       "4378         Burnham   3/09/2016       6.4    3011.0  ...       1.0  0.000000   \n",
       "4379          Nelson   3/12/2016       6.4    3011.0  ...       2.0  1.000000   \n",
       "4380             Jas   3/12/2016       6.4    3011.0  ...       1.0  1.000000   \n",
       "4381          Naison   3/12/2016       6.4    3011.0  ...       1.0  1.000000   \n",
       "...              ...         ...       ...       ...  ...       ...       ...   \n",
       "34257            Jas  24/02/2018       5.1    3011.0  ...       1.0  0.000000   \n",
       "34696  hockingstuart  24/02/2018       5.1    3011.0  ...       2.0  2.000000   \n",
       "34697  hockingstuart  24/02/2018       5.1    3011.0  ...       1.0  1.728845   \n",
       "34698  hockingstuart  24/02/2018       5.1    3011.0  ...       1.0  1.000000   \n",
       "34699        Village  24/02/2018       5.1    3011.0  ...       1.0  0.000000   \n",
       "\n",
       "         Landsize  BuildingArea    YearBuilt               CouncilArea  \\\n",
       "4377   259.000000      160.2564  1965.289885  Maribyrnong City Council   \n",
       "4378     0.000000      160.2564  2007.000000  Maribyrnong City Council   \n",
       "4379   319.000000      130.0000  1915.000000  Maribyrnong City Council   \n",
       "4380     0.000000      160.2564  1965.289885  Maribyrnong City Council   \n",
       "4381   292.000000       98.0000  1900.000000  Maribyrnong City Council   \n",
       "...           ...           ...          ...                       ...   \n",
       "34257  240.000000      101.0000  1930.000000  Maribyrnong City Council   \n",
       "34696  243.000000      132.0000  2000.000000  Maribyrnong City Council   \n",
       "34697  593.598993      160.2564  1965.289885  Maribyrnong City Council   \n",
       "34698  357.000000      357.0000  1978.000000  Maribyrnong City Council   \n",
       "34699  177.000000      160.2564  1965.289885  Maribyrnong City Council   \n",
       "\n",
       "      Lattitude  Longtitude            Regionname Propertycount  \n",
       "4377  -37.79550   144.90630  Western Metropolitan        7570.0  \n",
       "4378  -37.79110   144.89000  Western Metropolitan        7570.0  \n",
       "4379  -37.79430   144.88750  Western Metropolitan        7570.0  \n",
       "4380  -37.79630   144.88530  Western Metropolitan        7570.0  \n",
       "4381  -37.79700   144.90510  Western Metropolitan        7570.0  \n",
       "...         ...         ...                   ...           ...  \n",
       "34257 -37.79392   144.88418  Western Metropolitan        7570.0  \n",
       "34696 -37.80573   144.88570  Western Metropolitan        2417.0  \n",
       "34697 -37.80573   144.88570  Western Metropolitan        2417.0  \n",
       "34698 -37.80846   144.88854  Western Metropolitan        2417.0  \n",
       "34699 -37.80857   144.88963  Western Metropolitan        2417.0  \n",
       "\n",
       "[375 rows x 21 columns]"
      ]
     },
     "execution_count": 53,
     "metadata": {},
     "output_type": "execute_result"
    }
   ],
   "source": [
    "ps1 = Melbourne_house.loc[(Melbourne_house['Postcode']==3011 )]\n",
    "ps1"
   ]
  },
  {
   "cell_type": "markdown",
   "id": "0fc9dd1b",
   "metadata": {},
   "source": [
    "from above when postcode is 3011 then 'CouncilArea' == Maribyrnong City Council\t, and 'Regionname' == Western Metropolitan. so we replace with these values."
   ]
  },
  {
   "cell_type": "code",
   "execution_count": 54,
   "id": "21a1cd55",
   "metadata": {},
   "outputs": [
    {
     "data": {
      "text/html": [
       "<div>\n",
       "<style scoped>\n",
       "    .dataframe tbody tr th:only-of-type {\n",
       "        vertical-align: middle;\n",
       "    }\n",
       "\n",
       "    .dataframe tbody tr th {\n",
       "        vertical-align: top;\n",
       "    }\n",
       "\n",
       "    .dataframe thead th {\n",
       "        text-align: right;\n",
       "    }\n",
       "</style>\n",
       "<table border=\"1\" class=\"dataframe\">\n",
       "  <thead>\n",
       "    <tr style=\"text-align: right;\">\n",
       "      <th></th>\n",
       "      <th>Suburb</th>\n",
       "      <th>Address</th>\n",
       "      <th>Rooms</th>\n",
       "      <th>Type</th>\n",
       "      <th>Price</th>\n",
       "      <th>Method</th>\n",
       "      <th>SellerG</th>\n",
       "      <th>Date</th>\n",
       "      <th>Distance</th>\n",
       "      <th>Postcode</th>\n",
       "      <th>...</th>\n",
       "      <th>Bathroom</th>\n",
       "      <th>Car</th>\n",
       "      <th>Landsize</th>\n",
       "      <th>BuildingArea</th>\n",
       "      <th>YearBuilt</th>\n",
       "      <th>CouncilArea</th>\n",
       "      <th>Lattitude</th>\n",
       "      <th>Longtitude</th>\n",
       "      <th>Regionname</th>\n",
       "      <th>Propertycount</th>\n",
       "    </tr>\n",
       "  </thead>\n",
       "  <tbody>\n",
       "    <tr>\n",
       "      <th>2618</th>\n",
       "      <td>Camberwell</td>\n",
       "      <td>28 Brinsley Rd</td>\n",
       "      <td>4</td>\n",
       "      <td>h</td>\n",
       "      <td>2650000.0</td>\n",
       "      <td>S</td>\n",
       "      <td>Jellis</td>\n",
       "      <td>3/09/2016</td>\n",
       "      <td>7.8</td>\n",
       "      <td>3124.0</td>\n",
       "      <td>...</td>\n",
       "      <td>2.0</td>\n",
       "      <td>1.0</td>\n",
       "      <td>652.0</td>\n",
       "      <td>189.0000</td>\n",
       "      <td>1890.000000</td>\n",
       "      <td>Boroondara City Council</td>\n",
       "      <td>-37.82860</td>\n",
       "      <td>145.06860</td>\n",
       "      <td>Southern Metropolitan</td>\n",
       "      <td>8920.0</td>\n",
       "    </tr>\n",
       "    <tr>\n",
       "      <th>2619</th>\n",
       "      <td>Camberwell</td>\n",
       "      <td>2/1 Glen Iris Rd</td>\n",
       "      <td>3</td>\n",
       "      <td>t</td>\n",
       "      <td>1615000.0</td>\n",
       "      <td>S</td>\n",
       "      <td>Marshall</td>\n",
       "      <td>3/09/2016</td>\n",
       "      <td>7.8</td>\n",
       "      <td>3124.0</td>\n",
       "      <td>...</td>\n",
       "      <td>1.0</td>\n",
       "      <td>2.0</td>\n",
       "      <td>389.0</td>\n",
       "      <td>160.2564</td>\n",
       "      <td>1965.289885</td>\n",
       "      <td>Boroondara City Council</td>\n",
       "      <td>-37.84350</td>\n",
       "      <td>145.06950</td>\n",
       "      <td>Southern Metropolitan</td>\n",
       "      <td>8920.0</td>\n",
       "    </tr>\n",
       "    <tr>\n",
       "      <th>2620</th>\n",
       "      <td>Camberwell</td>\n",
       "      <td>6 Kalang Rd</td>\n",
       "      <td>3</td>\n",
       "      <td>h</td>\n",
       "      <td>870000.0</td>\n",
       "      <td>PN</td>\n",
       "      <td>Rayner</td>\n",
       "      <td>3/09/2016</td>\n",
       "      <td>7.8</td>\n",
       "      <td>3124.0</td>\n",
       "      <td>...</td>\n",
       "      <td>1.0</td>\n",
       "      <td>1.0</td>\n",
       "      <td>980.0</td>\n",
       "      <td>154.0000</td>\n",
       "      <td>1930.000000</td>\n",
       "      <td>Boroondara City Council</td>\n",
       "      <td>-37.84410</td>\n",
       "      <td>145.07750</td>\n",
       "      <td>Southern Metropolitan</td>\n",
       "      <td>8920.0</td>\n",
       "    </tr>\n",
       "    <tr>\n",
       "      <th>2621</th>\n",
       "      <td>Camberwell</td>\n",
       "      <td>1288 Toorak Rd</td>\n",
       "      <td>4</td>\n",
       "      <td>h</td>\n",
       "      <td>3225000.0</td>\n",
       "      <td>SA</td>\n",
       "      <td>RT</td>\n",
       "      <td>3/09/2016</td>\n",
       "      <td>7.8</td>\n",
       "      <td>3124.0</td>\n",
       "      <td>...</td>\n",
       "      <td>3.0</td>\n",
       "      <td>2.0</td>\n",
       "      <td>934.0</td>\n",
       "      <td>160.2564</td>\n",
       "      <td>1965.289885</td>\n",
       "      <td>Boroondara City Council</td>\n",
       "      <td>-37.84960</td>\n",
       "      <td>145.08690</td>\n",
       "      <td>Southern Metropolitan</td>\n",
       "      <td>8920.0</td>\n",
       "    </tr>\n",
       "    <tr>\n",
       "      <th>2622</th>\n",
       "      <td>Camberwell</td>\n",
       "      <td>1/19 Alma Rd</td>\n",
       "      <td>3</td>\n",
       "      <td>h</td>\n",
       "      <td>870000.0</td>\n",
       "      <td>S</td>\n",
       "      <td>Marshall</td>\n",
       "      <td>3/12/2016</td>\n",
       "      <td>7.8</td>\n",
       "      <td>3124.0</td>\n",
       "      <td>...</td>\n",
       "      <td>2.0</td>\n",
       "      <td>2.0</td>\n",
       "      <td>332.0</td>\n",
       "      <td>160.2564</td>\n",
       "      <td>1995.000000</td>\n",
       "      <td>Boroondara City Council</td>\n",
       "      <td>-37.83720</td>\n",
       "      <td>145.05850</td>\n",
       "      <td>Southern Metropolitan</td>\n",
       "      <td>8920.0</td>\n",
       "    </tr>\n",
       "    <tr>\n",
       "      <th>...</th>\n",
       "      <td>...</td>\n",
       "      <td>...</td>\n",
       "      <td>...</td>\n",
       "      <td>...</td>\n",
       "      <td>...</td>\n",
       "      <td>...</td>\n",
       "      <td>...</td>\n",
       "      <td>...</td>\n",
       "      <td>...</td>\n",
       "      <td>...</td>\n",
       "      <td>...</td>\n",
       "      <td>...</td>\n",
       "      <td>...</td>\n",
       "      <td>...</td>\n",
       "      <td>...</td>\n",
       "      <td>...</td>\n",
       "      <td>...</td>\n",
       "      <td>...</td>\n",
       "      <td>...</td>\n",
       "      <td>...</td>\n",
       "      <td>...</td>\n",
       "    </tr>\n",
       "    <tr>\n",
       "      <th>34080</th>\n",
       "      <td>Camberwell</td>\n",
       "      <td>29 Oxford St</td>\n",
       "      <td>3</td>\n",
       "      <td>h</td>\n",
       "      <td>1888000.0</td>\n",
       "      <td>S</td>\n",
       "      <td>Buxton</td>\n",
       "      <td>24/02/2018</td>\n",
       "      <td>7.7</td>\n",
       "      <td>3124.0</td>\n",
       "      <td>...</td>\n",
       "      <td>1.0</td>\n",
       "      <td>2.0</td>\n",
       "      <td>770.0</td>\n",
       "      <td>160.2564</td>\n",
       "      <td>1965.289885</td>\n",
       "      <td>Boroondara City Council</td>\n",
       "      <td>-37.84455</td>\n",
       "      <td>145.09310</td>\n",
       "      <td>Southern Metropolitan</td>\n",
       "      <td>8920.0</td>\n",
       "    </tr>\n",
       "    <tr>\n",
       "      <th>34081</th>\n",
       "      <td>Camberwell</td>\n",
       "      <td>23 Radnor St</td>\n",
       "      <td>3</td>\n",
       "      <td>h</td>\n",
       "      <td>870000.0</td>\n",
       "      <td>SP</td>\n",
       "      <td>Marshall</td>\n",
       "      <td>24/02/2018</td>\n",
       "      <td>7.7</td>\n",
       "      <td>3124.0</td>\n",
       "      <td>...</td>\n",
       "      <td>2.0</td>\n",
       "      <td>2.0</td>\n",
       "      <td>597.0</td>\n",
       "      <td>176.0000</td>\n",
       "      <td>1915.000000</td>\n",
       "      <td>Boroondara City Council</td>\n",
       "      <td>-37.84120</td>\n",
       "      <td>145.06197</td>\n",
       "      <td>Southern Metropolitan</td>\n",
       "      <td>8920.0</td>\n",
       "    </tr>\n",
       "    <tr>\n",
       "      <th>34082</th>\n",
       "      <td>Camberwell</td>\n",
       "      <td>674 Riversdale Rd</td>\n",
       "      <td>3</td>\n",
       "      <td>h</td>\n",
       "      <td>870000.0</td>\n",
       "      <td>SP</td>\n",
       "      <td>Buxton</td>\n",
       "      <td>24/02/2018</td>\n",
       "      <td>7.7</td>\n",
       "      <td>3124.0</td>\n",
       "      <td>...</td>\n",
       "      <td>1.0</td>\n",
       "      <td>2.0</td>\n",
       "      <td>675.0</td>\n",
       "      <td>155.0000</td>\n",
       "      <td>1940.000000</td>\n",
       "      <td>Boroondara City Council</td>\n",
       "      <td>-37.83329</td>\n",
       "      <td>145.07210</td>\n",
       "      <td>Southern Metropolitan</td>\n",
       "      <td>8920.0</td>\n",
       "    </tr>\n",
       "    <tr>\n",
       "      <th>34083</th>\n",
       "      <td>Camberwell</td>\n",
       "      <td>1088 Toorak Rd</td>\n",
       "      <td>3</td>\n",
       "      <td>h</td>\n",
       "      <td>870000.0</td>\n",
       "      <td>VB</td>\n",
       "      <td>Marshall</td>\n",
       "      <td>24/02/2018</td>\n",
       "      <td>7.7</td>\n",
       "      <td>3124.0</td>\n",
       "      <td>...</td>\n",
       "      <td>1.0</td>\n",
       "      <td>1.0</td>\n",
       "      <td>647.0</td>\n",
       "      <td>0.0000</td>\n",
       "      <td>1965.289885</td>\n",
       "      <td>Boroondara City Council</td>\n",
       "      <td>-37.84812</td>\n",
       "      <td>145.07414</td>\n",
       "      <td>Southern Metropolitan</td>\n",
       "      <td>8920.0</td>\n",
       "    </tr>\n",
       "    <tr>\n",
       "      <th>34084</th>\n",
       "      <td>Camberwell</td>\n",
       "      <td>2 Weafgreen Ct</td>\n",
       "      <td>5</td>\n",
       "      <td>h</td>\n",
       "      <td>2650000.0</td>\n",
       "      <td>VB</td>\n",
       "      <td>hockingstuart</td>\n",
       "      <td>24/02/2018</td>\n",
       "      <td>7.7</td>\n",
       "      <td>3124.0</td>\n",
       "      <td>...</td>\n",
       "      <td>3.0</td>\n",
       "      <td>6.0</td>\n",
       "      <td>677.0</td>\n",
       "      <td>242.0000</td>\n",
       "      <td>1950.000000</td>\n",
       "      <td>Boroondara City Council</td>\n",
       "      <td>-37.83710</td>\n",
       "      <td>145.09231</td>\n",
       "      <td>Southern Metropolitan</td>\n",
       "      <td>8920.0</td>\n",
       "    </tr>\n",
       "  </tbody>\n",
       "</table>\n",
       "<p>423 rows × 21 columns</p>\n",
       "</div>"
      ],
      "text/plain": [
       "           Suburb            Address  Rooms Type      Price Method  \\\n",
       "2618   Camberwell     28 Brinsley Rd      4    h  2650000.0      S   \n",
       "2619   Camberwell   2/1 Glen Iris Rd      3    t  1615000.0      S   \n",
       "2620   Camberwell        6 Kalang Rd      3    h   870000.0     PN   \n",
       "2621   Camberwell     1288 Toorak Rd      4    h  3225000.0     SA   \n",
       "2622   Camberwell       1/19 Alma Rd      3    h   870000.0      S   \n",
       "...           ...                ...    ...  ...        ...    ...   \n",
       "34080  Camberwell       29 Oxford St      3    h  1888000.0      S   \n",
       "34081  Camberwell       23 Radnor St      3    h   870000.0     SP   \n",
       "34082  Camberwell  674 Riversdale Rd      3    h   870000.0     SP   \n",
       "34083  Camberwell     1088 Toorak Rd      3    h   870000.0     VB   \n",
       "34084  Camberwell     2 Weafgreen Ct      5    h  2650000.0     VB   \n",
       "\n",
       "             SellerG        Date  Distance  Postcode  ...  Bathroom  Car  \\\n",
       "2618          Jellis   3/09/2016       7.8    3124.0  ...       2.0  1.0   \n",
       "2619        Marshall   3/09/2016       7.8    3124.0  ...       1.0  2.0   \n",
       "2620          Rayner   3/09/2016       7.8    3124.0  ...       1.0  1.0   \n",
       "2621              RT   3/09/2016       7.8    3124.0  ...       3.0  2.0   \n",
       "2622        Marshall   3/12/2016       7.8    3124.0  ...       2.0  2.0   \n",
       "...              ...         ...       ...       ...  ...       ...  ...   \n",
       "34080         Buxton  24/02/2018       7.7    3124.0  ...       1.0  2.0   \n",
       "34081       Marshall  24/02/2018       7.7    3124.0  ...       2.0  2.0   \n",
       "34082         Buxton  24/02/2018       7.7    3124.0  ...       1.0  2.0   \n",
       "34083       Marshall  24/02/2018       7.7    3124.0  ...       1.0  1.0   \n",
       "34084  hockingstuart  24/02/2018       7.7    3124.0  ...       3.0  6.0   \n",
       "\n",
       "       Landsize  BuildingArea    YearBuilt              CouncilArea Lattitude  \\\n",
       "2618      652.0      189.0000  1890.000000  Boroondara City Council -37.82860   \n",
       "2619      389.0      160.2564  1965.289885  Boroondara City Council -37.84350   \n",
       "2620      980.0      154.0000  1930.000000  Boroondara City Council -37.84410   \n",
       "2621      934.0      160.2564  1965.289885  Boroondara City Council -37.84960   \n",
       "2622      332.0      160.2564  1995.000000  Boroondara City Council -37.83720   \n",
       "...         ...           ...          ...                      ...       ...   \n",
       "34080     770.0      160.2564  1965.289885  Boroondara City Council -37.84455   \n",
       "34081     597.0      176.0000  1915.000000  Boroondara City Council -37.84120   \n",
       "34082     675.0      155.0000  1940.000000  Boroondara City Council -37.83329   \n",
       "34083     647.0        0.0000  1965.289885  Boroondara City Council -37.84812   \n",
       "34084     677.0      242.0000  1950.000000  Boroondara City Council -37.83710   \n",
       "\n",
       "       Longtitude             Regionname Propertycount  \n",
       "2618    145.06860  Southern Metropolitan        8920.0  \n",
       "2619    145.06950  Southern Metropolitan        8920.0  \n",
       "2620    145.07750  Southern Metropolitan        8920.0  \n",
       "2621    145.08690  Southern Metropolitan        8920.0  \n",
       "2622    145.05850  Southern Metropolitan        8920.0  \n",
       "...           ...                    ...           ...  \n",
       "34080   145.09310  Southern Metropolitan        8920.0  \n",
       "34081   145.06197  Southern Metropolitan        8920.0  \n",
       "34082   145.07210  Southern Metropolitan        8920.0  \n",
       "34083   145.07414  Southern Metropolitan        8920.0  \n",
       "34084   145.09231  Southern Metropolitan        8920.0  \n",
       "\n",
       "[423 rows x 21 columns]"
      ]
     },
     "execution_count": 54,
     "metadata": {},
     "output_type": "execute_result"
    }
   ],
   "source": [
    "ps2 = Melbourne_house.loc[(Melbourne_house['Postcode']==3124 )]\n",
    "ps2"
   ]
  },
  {
   "cell_type": "markdown",
   "id": "36b4cc6f",
   "metadata": {},
   "source": [
    "from above when postcode is 3124 then 'CouncilArea' == Boroondara City Council, and 'Regionname' == Southern Metropolitan.\n",
    "so we replace with these values."
   ]
  },
  {
   "cell_type": "code",
   "execution_count": 55,
   "id": "80c80c1a",
   "metadata": {},
   "outputs": [
    {
     "data": {
      "text/html": [
       "<div>\n",
       "<style scoped>\n",
       "    .dataframe tbody tr th:only-of-type {\n",
       "        vertical-align: middle;\n",
       "    }\n",
       "\n",
       "    .dataframe tbody tr th {\n",
       "        vertical-align: top;\n",
       "    }\n",
       "\n",
       "    .dataframe thead th {\n",
       "        text-align: right;\n",
       "    }\n",
       "</style>\n",
       "<table border=\"1\" class=\"dataframe\">\n",
       "  <thead>\n",
       "    <tr style=\"text-align: right;\">\n",
       "      <th></th>\n",
       "      <th>Suburb</th>\n",
       "      <th>Address</th>\n",
       "      <th>Rooms</th>\n",
       "      <th>Type</th>\n",
       "      <th>Price</th>\n",
       "      <th>Method</th>\n",
       "      <th>SellerG</th>\n",
       "      <th>Date</th>\n",
       "      <th>Distance</th>\n",
       "      <th>Postcode</th>\n",
       "      <th>...</th>\n",
       "      <th>Bathroom</th>\n",
       "      <th>Car</th>\n",
       "      <th>Landsize</th>\n",
       "      <th>BuildingArea</th>\n",
       "      <th>YearBuilt</th>\n",
       "      <th>CouncilArea</th>\n",
       "      <th>Lattitude</th>\n",
       "      <th>Longtitude</th>\n",
       "      <th>Regionname</th>\n",
       "      <th>Propertycount</th>\n",
       "    </tr>\n",
       "  </thead>\n",
       "  <tbody>\n",
       "    <tr>\n",
       "      <th>846</th>\n",
       "      <td>Balwyn</td>\n",
       "      <td>1/4 Glenluss St</td>\n",
       "      <td>3</td>\n",
       "      <td>t</td>\n",
       "      <td>870000.0</td>\n",
       "      <td>S</td>\n",
       "      <td>Jellis</td>\n",
       "      <td>3/09/2016</td>\n",
       "      <td>9.7</td>\n",
       "      <td>3103.0</td>\n",
       "      <td>...</td>\n",
       "      <td>2.0</td>\n",
       "      <td>2.000000</td>\n",
       "      <td>348.000000</td>\n",
       "      <td>160.2564</td>\n",
       "      <td>1965.289885</td>\n",
       "      <td>Boroondara City Council</td>\n",
       "      <td>-37.80530</td>\n",
       "      <td>145.09340</td>\n",
       "      <td>Southern Metropolitan</td>\n",
       "      <td>5682.0</td>\n",
       "    </tr>\n",
       "    <tr>\n",
       "      <th>847</th>\n",
       "      <td>Balwyn</td>\n",
       "      <td>166 Gordon St</td>\n",
       "      <td>2</td>\n",
       "      <td>h</td>\n",
       "      <td>2100000.0</td>\n",
       "      <td>S</td>\n",
       "      <td>Marshall</td>\n",
       "      <td>3/09/2016</td>\n",
       "      <td>9.7</td>\n",
       "      <td>3103.0</td>\n",
       "      <td>...</td>\n",
       "      <td>1.0</td>\n",
       "      <td>1.000000</td>\n",
       "      <td>659.000000</td>\n",
       "      <td>123.0000</td>\n",
       "      <td>1920.000000</td>\n",
       "      <td>Boroondara City Council</td>\n",
       "      <td>-37.80940</td>\n",
       "      <td>145.08070</td>\n",
       "      <td>Southern Metropolitan</td>\n",
       "      <td>5682.0</td>\n",
       "    </tr>\n",
       "    <tr>\n",
       "      <th>848</th>\n",
       "      <td>Balwyn</td>\n",
       "      <td>36 Narrak Rd</td>\n",
       "      <td>4</td>\n",
       "      <td>h</td>\n",
       "      <td>1800000.0</td>\n",
       "      <td>VB</td>\n",
       "      <td>Marshall</td>\n",
       "      <td>3/09/2016</td>\n",
       "      <td>9.7</td>\n",
       "      <td>3103.0</td>\n",
       "      <td>...</td>\n",
       "      <td>2.0</td>\n",
       "      <td>2.000000</td>\n",
       "      <td>715.000000</td>\n",
       "      <td>218.0000</td>\n",
       "      <td>1985.000000</td>\n",
       "      <td>Boroondara City Council</td>\n",
       "      <td>-37.81100</td>\n",
       "      <td>145.09580</td>\n",
       "      <td>Southern Metropolitan</td>\n",
       "      <td>5682.0</td>\n",
       "    </tr>\n",
       "    <tr>\n",
       "      <th>849</th>\n",
       "      <td>Balwyn</td>\n",
       "      <td>2/16 Westminster St</td>\n",
       "      <td>2</td>\n",
       "      <td>t</td>\n",
       "      <td>1255000.0</td>\n",
       "      <td>S</td>\n",
       "      <td>Noel</td>\n",
       "      <td>3/09/2016</td>\n",
       "      <td>9.7</td>\n",
       "      <td>3103.0</td>\n",
       "      <td>...</td>\n",
       "      <td>1.0</td>\n",
       "      <td>1.000000</td>\n",
       "      <td>208.000000</td>\n",
       "      <td>129.0000</td>\n",
       "      <td>2000.000000</td>\n",
       "      <td>Boroondara City Council</td>\n",
       "      <td>-37.81280</td>\n",
       "      <td>145.09750</td>\n",
       "      <td>Southern Metropolitan</td>\n",
       "      <td>5682.0</td>\n",
       "    </tr>\n",
       "    <tr>\n",
       "      <th>850</th>\n",
       "      <td>Balwyn</td>\n",
       "      <td>2/74 Balwyn Rd</td>\n",
       "      <td>3</td>\n",
       "      <td>u</td>\n",
       "      <td>1070000.0</td>\n",
       "      <td>SA</td>\n",
       "      <td>Philip</td>\n",
       "      <td>3/12/2016</td>\n",
       "      <td>9.7</td>\n",
       "      <td>3103.0</td>\n",
       "      <td>...</td>\n",
       "      <td>2.0</td>\n",
       "      <td>2.000000</td>\n",
       "      <td>206.000000</td>\n",
       "      <td>112.0000</td>\n",
       "      <td>1998.000000</td>\n",
       "      <td>Boroondara City Council</td>\n",
       "      <td>-37.81610</td>\n",
       "      <td>145.08120</td>\n",
       "      <td>Southern Metropolitan</td>\n",
       "      <td>5682.0</td>\n",
       "    </tr>\n",
       "    <tr>\n",
       "      <th>...</th>\n",
       "      <td>...</td>\n",
       "      <td>...</td>\n",
       "      <td>...</td>\n",
       "      <td>...</td>\n",
       "      <td>...</td>\n",
       "      <td>...</td>\n",
       "      <td>...</td>\n",
       "      <td>...</td>\n",
       "      <td>...</td>\n",
       "      <td>...</td>\n",
       "      <td>...</td>\n",
       "      <td>...</td>\n",
       "      <td>...</td>\n",
       "      <td>...</td>\n",
       "      <td>...</td>\n",
       "      <td>...</td>\n",
       "      <td>...</td>\n",
       "      <td>...</td>\n",
       "      <td>...</td>\n",
       "      <td>...</td>\n",
       "      <td>...</td>\n",
       "    </tr>\n",
       "    <tr>\n",
       "      <th>33004</th>\n",
       "      <td>Balwyn</td>\n",
       "      <td>122 Winmalee Rd</td>\n",
       "      <td>3</td>\n",
       "      <td>h</td>\n",
       "      <td>3400000.0</td>\n",
       "      <td>PI</td>\n",
       "      <td>Jellis</td>\n",
       "      <td>17/03/2018</td>\n",
       "      <td>7.9</td>\n",
       "      <td>3103.0</td>\n",
       "      <td>...</td>\n",
       "      <td>2.0</td>\n",
       "      <td>4.000000</td>\n",
       "      <td>1490.000000</td>\n",
       "      <td>160.2564</td>\n",
       "      <td>1965.289885</td>\n",
       "      <td>Boroondara City Council</td>\n",
       "      <td>-37.80828</td>\n",
       "      <td>145.09503</td>\n",
       "      <td>Southern Metropolitan</td>\n",
       "      <td>5682.0</td>\n",
       "    </tr>\n",
       "    <tr>\n",
       "      <th>33960</th>\n",
       "      <td>Balwyn</td>\n",
       "      <td>110 Gordon St</td>\n",
       "      <td>5</td>\n",
       "      <td>h</td>\n",
       "      <td>4350000.0</td>\n",
       "      <td>VB</td>\n",
       "      <td>Marshall</td>\n",
       "      <td>24/02/2018</td>\n",
       "      <td>7.9</td>\n",
       "      <td>3103.0</td>\n",
       "      <td>...</td>\n",
       "      <td>5.0</td>\n",
       "      <td>2.000000</td>\n",
       "      <td>641.000000</td>\n",
       "      <td>160.2564</td>\n",
       "      <td>1965.289885</td>\n",
       "      <td>Boroondara City Council</td>\n",
       "      <td>-37.80862</td>\n",
       "      <td>145.07452</td>\n",
       "      <td>Southern Metropolitan</td>\n",
       "      <td>5682.0</td>\n",
       "    </tr>\n",
       "    <tr>\n",
       "      <th>33961</th>\n",
       "      <td>Balwyn</td>\n",
       "      <td>6/26 Gordon St</td>\n",
       "      <td>2</td>\n",
       "      <td>t</td>\n",
       "      <td>700000.0</td>\n",
       "      <td>VB</td>\n",
       "      <td>hockingstuart</td>\n",
       "      <td>24/02/2018</td>\n",
       "      <td>7.9</td>\n",
       "      <td>3103.0</td>\n",
       "      <td>...</td>\n",
       "      <td>1.0</td>\n",
       "      <td>1.728845</td>\n",
       "      <td>593.598993</td>\n",
       "      <td>160.2564</td>\n",
       "      <td>1965.289885</td>\n",
       "      <td>Boroondara City Council</td>\n",
       "      <td>-37.80862</td>\n",
       "      <td>145.07452</td>\n",
       "      <td>Southern Metropolitan</td>\n",
       "      <td>5682.0</td>\n",
       "    </tr>\n",
       "    <tr>\n",
       "      <th>33962</th>\n",
       "      <td>Balwyn</td>\n",
       "      <td>2/16 Westminster St</td>\n",
       "      <td>2</td>\n",
       "      <td>h</td>\n",
       "      <td>1380000.0</td>\n",
       "      <td>S</td>\n",
       "      <td>Marshall</td>\n",
       "      <td>24/02/2018</td>\n",
       "      <td>7.9</td>\n",
       "      <td>3103.0</td>\n",
       "      <td>...</td>\n",
       "      <td>1.0</td>\n",
       "      <td>1.728845</td>\n",
       "      <td>593.598993</td>\n",
       "      <td>160.2564</td>\n",
       "      <td>1965.289885</td>\n",
       "      <td>Boroondara City Council</td>\n",
       "      <td>-37.80862</td>\n",
       "      <td>145.07452</td>\n",
       "      <td>Southern Metropolitan</td>\n",
       "      <td>5682.0</td>\n",
       "    </tr>\n",
       "    <tr>\n",
       "      <th>33963</th>\n",
       "      <td>Balwyn</td>\n",
       "      <td>1/6 Westminster St</td>\n",
       "      <td>2</td>\n",
       "      <td>u</td>\n",
       "      <td>896000.0</td>\n",
       "      <td>S</td>\n",
       "      <td>Jellis</td>\n",
       "      <td>24/02/2018</td>\n",
       "      <td>7.9</td>\n",
       "      <td>3103.0</td>\n",
       "      <td>...</td>\n",
       "      <td>1.0</td>\n",
       "      <td>1.728845</td>\n",
       "      <td>593.598993</td>\n",
       "      <td>160.2564</td>\n",
       "      <td>1965.289885</td>\n",
       "      <td>Boroondara City Council</td>\n",
       "      <td>-37.80862</td>\n",
       "      <td>145.07452</td>\n",
       "      <td>Southern Metropolitan</td>\n",
       "      <td>5682.0</td>\n",
       "    </tr>\n",
       "  </tbody>\n",
       "</table>\n",
       "<p>331 rows × 21 columns</p>\n",
       "</div>"
      ],
      "text/plain": [
       "       Suburb              Address  Rooms Type      Price Method  \\\n",
       "846    Balwyn      1/4 Glenluss St      3    t   870000.0      S   \n",
       "847    Balwyn        166 Gordon St      2    h  2100000.0      S   \n",
       "848    Balwyn         36 Narrak Rd      4    h  1800000.0     VB   \n",
       "849    Balwyn  2/16 Westminster St      2    t  1255000.0      S   \n",
       "850    Balwyn       2/74 Balwyn Rd      3    u  1070000.0     SA   \n",
       "...       ...                  ...    ...  ...        ...    ...   \n",
       "33004  Balwyn      122 Winmalee Rd      3    h  3400000.0     PI   \n",
       "33960  Balwyn        110 Gordon St      5    h  4350000.0     VB   \n",
       "33961  Balwyn       6/26 Gordon St      2    t   700000.0     VB   \n",
       "33962  Balwyn  2/16 Westminster St      2    h  1380000.0      S   \n",
       "33963  Balwyn   1/6 Westminster St      2    u   896000.0      S   \n",
       "\n",
       "             SellerG        Date  Distance  Postcode  ...  Bathroom       Car  \\\n",
       "846           Jellis   3/09/2016       9.7    3103.0  ...       2.0  2.000000   \n",
       "847         Marshall   3/09/2016       9.7    3103.0  ...       1.0  1.000000   \n",
       "848         Marshall   3/09/2016       9.7    3103.0  ...       2.0  2.000000   \n",
       "849             Noel   3/09/2016       9.7    3103.0  ...       1.0  1.000000   \n",
       "850           Philip   3/12/2016       9.7    3103.0  ...       2.0  2.000000   \n",
       "...              ...         ...       ...       ...  ...       ...       ...   \n",
       "33004         Jellis  17/03/2018       7.9    3103.0  ...       2.0  4.000000   \n",
       "33960       Marshall  24/02/2018       7.9    3103.0  ...       5.0  2.000000   \n",
       "33961  hockingstuart  24/02/2018       7.9    3103.0  ...       1.0  1.728845   \n",
       "33962       Marshall  24/02/2018       7.9    3103.0  ...       1.0  1.728845   \n",
       "33963         Jellis  24/02/2018       7.9    3103.0  ...       1.0  1.728845   \n",
       "\n",
       "          Landsize  BuildingArea    YearBuilt              CouncilArea  \\\n",
       "846     348.000000      160.2564  1965.289885  Boroondara City Council   \n",
       "847     659.000000      123.0000  1920.000000  Boroondara City Council   \n",
       "848     715.000000      218.0000  1985.000000  Boroondara City Council   \n",
       "849     208.000000      129.0000  2000.000000  Boroondara City Council   \n",
       "850     206.000000      112.0000  1998.000000  Boroondara City Council   \n",
       "...            ...           ...          ...                      ...   \n",
       "33004  1490.000000      160.2564  1965.289885  Boroondara City Council   \n",
       "33960   641.000000      160.2564  1965.289885  Boroondara City Council   \n",
       "33961   593.598993      160.2564  1965.289885  Boroondara City Council   \n",
       "33962   593.598993      160.2564  1965.289885  Boroondara City Council   \n",
       "33963   593.598993      160.2564  1965.289885  Boroondara City Council   \n",
       "\n",
       "      Lattitude  Longtitude             Regionname Propertycount  \n",
       "846   -37.80530   145.09340  Southern Metropolitan        5682.0  \n",
       "847   -37.80940   145.08070  Southern Metropolitan        5682.0  \n",
       "848   -37.81100   145.09580  Southern Metropolitan        5682.0  \n",
       "849   -37.81280   145.09750  Southern Metropolitan        5682.0  \n",
       "850   -37.81610   145.08120  Southern Metropolitan        5682.0  \n",
       "...         ...         ...                    ...           ...  \n",
       "33004 -37.80828   145.09503  Southern Metropolitan        5682.0  \n",
       "33960 -37.80862   145.07452  Southern Metropolitan        5682.0  \n",
       "33961 -37.80862   145.07452  Southern Metropolitan        5682.0  \n",
       "33962 -37.80862   145.07452  Southern Metropolitan        5682.0  \n",
       "33963 -37.80862   145.07452  Southern Metropolitan        5682.0  \n",
       "\n",
       "[331 rows x 21 columns]"
      ]
     },
     "execution_count": 55,
     "metadata": {},
     "output_type": "execute_result"
    }
   ],
   "source": [
    "ps3 = Melbourne_house.loc[(Melbourne_house['Postcode']==3103 )]\n",
    "ps3"
   ]
  },
  {
   "cell_type": "markdown",
   "id": "f5dab187",
   "metadata": {},
   "source": [
    "from above when postcode is 3103 then 'CouncilArea' == Boroondara City Council, and 'Regionname' == Southern Metropolitan. so we replace with these values."
   ]
  },
  {
   "cell_type": "raw",
   "id": "6e19b007",
   "metadata": {},
   "source": [
    "Replacing missing values of ConcilArea based on Postcode"
   ]
  },
  {
   "cell_type": "code",
   "execution_count": 56,
   "id": "3504547e",
   "metadata": {},
   "outputs": [],
   "source": [
    "Melbourne_house.loc[(Melbourne_house['CouncilArea'].isna()) & (Melbourne_house['Postcode']==3011) , 'CouncilArea'] = \"Maribyrnong City Council\"\n",
    "Melbourne_house.loc[(Melbourne_house['CouncilArea'].isna()) & (Melbourne_house['Postcode']==3124) , 'CouncilArea'] = \"Boroondara City Council\"\n",
    "Melbourne_house.loc[(Melbourne_house['CouncilArea'].isna()) & (Melbourne_house['Postcode']==3103) , 'CouncilArea'] = \"Boroondara City Council\""
   ]
  },
  {
   "cell_type": "raw",
   "id": "92388dda",
   "metadata": {},
   "source": [
    "Replacing missing values of Regionname based on Postcode"
   ]
  },
  {
   "cell_type": "code",
   "execution_count": 57,
   "id": "6cffc306",
   "metadata": {},
   "outputs": [],
   "source": [
    "Melbourne_house.loc[(Melbourne_house['Regionname'].isna()) & (Melbourne_house['Postcode']==3011) , 'Regionname'] = \"Western Metropolitan\"\n",
    "Melbourne_house.loc[(Melbourne_house['Regionname'].isna()) & (Melbourne_house['Postcode']==3124) , 'Regionname'] = \"Southern Metropolitan\"\n",
    "Melbourne_house.loc[(Melbourne_house['Regionname'].isna()) & (Melbourne_house['Postcode']==3103) , 'Regionname'] = \"Southern Metropolitan\""
   ]
  },
  {
   "cell_type": "code",
   "execution_count": 58,
   "id": "0a776385",
   "metadata": {},
   "outputs": [
    {
     "data": {
      "text/plain": [
       "Suburb           0\n",
       "Address          0\n",
       "Rooms            0\n",
       "Type             0\n",
       "Price            0\n",
       "Method           0\n",
       "SellerG          0\n",
       "Date             0\n",
       "Distance         0\n",
       "Postcode         0\n",
       "Bedroom2         0\n",
       "Bathroom         0\n",
       "Car              0\n",
       "Landsize         0\n",
       "BuildingArea     0\n",
       "YearBuilt        0\n",
       "CouncilArea      0\n",
       "Lattitude        0\n",
       "Longtitude       0\n",
       "Regionname       0\n",
       "Propertycount    0\n",
       "dtype: int64"
      ]
     },
     "execution_count": 58,
     "metadata": {},
     "output_type": "execute_result"
    }
   ],
   "source": [
    "Melbourne_house.isna().sum()"
   ]
  },
  {
   "cell_type": "code",
   "execution_count": 59,
   "id": "ac2b92ff",
   "metadata": {},
   "outputs": [
    {
     "data": {
      "text/html": [
       "<div>\n",
       "<style scoped>\n",
       "    .dataframe tbody tr th:only-of-type {\n",
       "        vertical-align: middle;\n",
       "    }\n",
       "\n",
       "    .dataframe tbody tr th {\n",
       "        vertical-align: top;\n",
       "    }\n",
       "\n",
       "    .dataframe thead th {\n",
       "        text-align: right;\n",
       "    }\n",
       "</style>\n",
       "<table border=\"1\" class=\"dataframe\">\n",
       "  <thead>\n",
       "    <tr style=\"text-align: right;\">\n",
       "      <th></th>\n",
       "      <th>Suburb</th>\n",
       "      <th>Address</th>\n",
       "      <th>Rooms</th>\n",
       "      <th>Type</th>\n",
       "      <th>Price</th>\n",
       "      <th>Method</th>\n",
       "      <th>SellerG</th>\n",
       "      <th>Date</th>\n",
       "      <th>Distance</th>\n",
       "      <th>Postcode</th>\n",
       "      <th>...</th>\n",
       "      <th>Bathroom</th>\n",
       "      <th>Car</th>\n",
       "      <th>Landsize</th>\n",
       "      <th>BuildingArea</th>\n",
       "      <th>YearBuilt</th>\n",
       "      <th>CouncilArea</th>\n",
       "      <th>Lattitude</th>\n",
       "      <th>Longtitude</th>\n",
       "      <th>Regionname</th>\n",
       "      <th>Propertycount</th>\n",
       "    </tr>\n",
       "  </thead>\n",
       "  <tbody>\n",
       "    <tr>\n",
       "      <th>0</th>\n",
       "      <td>Abbotsford</td>\n",
       "      <td>68 Studley St</td>\n",
       "      <td>2</td>\n",
       "      <td>h</td>\n",
       "      <td>870000.0</td>\n",
       "      <td>SS</td>\n",
       "      <td>Jellis</td>\n",
       "      <td>3/09/2016</td>\n",
       "      <td>2.5</td>\n",
       "      <td>3067.0</td>\n",
       "      <td>...</td>\n",
       "      <td>1.0</td>\n",
       "      <td>1.0</td>\n",
       "      <td>126.0</td>\n",
       "      <td>160.2564</td>\n",
       "      <td>1965.289885</td>\n",
       "      <td>Yarra City Council</td>\n",
       "      <td>-37.8014</td>\n",
       "      <td>144.9958</td>\n",
       "      <td>Northern Metropolitan</td>\n",
       "      <td>4019.0</td>\n",
       "    </tr>\n",
       "    <tr>\n",
       "      <th>1</th>\n",
       "      <td>Abbotsford</td>\n",
       "      <td>85 Turner St</td>\n",
       "      <td>2</td>\n",
       "      <td>h</td>\n",
       "      <td>1480000.0</td>\n",
       "      <td>S</td>\n",
       "      <td>Biggin</td>\n",
       "      <td>3/12/2016</td>\n",
       "      <td>2.5</td>\n",
       "      <td>3067.0</td>\n",
       "      <td>...</td>\n",
       "      <td>1.0</td>\n",
       "      <td>1.0</td>\n",
       "      <td>202.0</td>\n",
       "      <td>160.2564</td>\n",
       "      <td>1965.289885</td>\n",
       "      <td>Yarra City Council</td>\n",
       "      <td>-37.7996</td>\n",
       "      <td>144.9984</td>\n",
       "      <td>Northern Metropolitan</td>\n",
       "      <td>4019.0</td>\n",
       "    </tr>\n",
       "    <tr>\n",
       "      <th>2</th>\n",
       "      <td>Abbotsford</td>\n",
       "      <td>25 Bloomburg St</td>\n",
       "      <td>2</td>\n",
       "      <td>h</td>\n",
       "      <td>1035000.0</td>\n",
       "      <td>S</td>\n",
       "      <td>Biggin</td>\n",
       "      <td>4/02/2016</td>\n",
       "      <td>2.5</td>\n",
       "      <td>3067.0</td>\n",
       "      <td>...</td>\n",
       "      <td>1.0</td>\n",
       "      <td>0.0</td>\n",
       "      <td>156.0</td>\n",
       "      <td>79.0000</td>\n",
       "      <td>1900.000000</td>\n",
       "      <td>Yarra City Council</td>\n",
       "      <td>-37.8079</td>\n",
       "      <td>144.9934</td>\n",
       "      <td>Northern Metropolitan</td>\n",
       "      <td>4019.0</td>\n",
       "    </tr>\n",
       "    <tr>\n",
       "      <th>3</th>\n",
       "      <td>Abbotsford</td>\n",
       "      <td>18/659 Victoria St</td>\n",
       "      <td>3</td>\n",
       "      <td>u</td>\n",
       "      <td>870000.0</td>\n",
       "      <td>VB</td>\n",
       "      <td>Rounds</td>\n",
       "      <td>4/02/2016</td>\n",
       "      <td>2.5</td>\n",
       "      <td>3067.0</td>\n",
       "      <td>...</td>\n",
       "      <td>2.0</td>\n",
       "      <td>1.0</td>\n",
       "      <td>0.0</td>\n",
       "      <td>160.2564</td>\n",
       "      <td>1965.289885</td>\n",
       "      <td>Yarra City Council</td>\n",
       "      <td>-37.8114</td>\n",
       "      <td>145.0116</td>\n",
       "      <td>Northern Metropolitan</td>\n",
       "      <td>4019.0</td>\n",
       "    </tr>\n",
       "    <tr>\n",
       "      <th>4</th>\n",
       "      <td>Abbotsford</td>\n",
       "      <td>5 Charles St</td>\n",
       "      <td>3</td>\n",
       "      <td>h</td>\n",
       "      <td>1465000.0</td>\n",
       "      <td>SP</td>\n",
       "      <td>Biggin</td>\n",
       "      <td>4/03/2017</td>\n",
       "      <td>2.5</td>\n",
       "      <td>3067.0</td>\n",
       "      <td>...</td>\n",
       "      <td>2.0</td>\n",
       "      <td>0.0</td>\n",
       "      <td>134.0</td>\n",
       "      <td>150.0000</td>\n",
       "      <td>1900.000000</td>\n",
       "      <td>Yarra City Council</td>\n",
       "      <td>-37.8093</td>\n",
       "      <td>144.9944</td>\n",
       "      <td>Northern Metropolitan</td>\n",
       "      <td>4019.0</td>\n",
       "    </tr>\n",
       "  </tbody>\n",
       "</table>\n",
       "<p>5 rows × 21 columns</p>\n",
       "</div>"
      ],
      "text/plain": [
       "       Suburb             Address  Rooms Type      Price Method SellerG  \\\n",
       "0  Abbotsford       68 Studley St      2    h   870000.0     SS  Jellis   \n",
       "1  Abbotsford        85 Turner St      2    h  1480000.0      S  Biggin   \n",
       "2  Abbotsford     25 Bloomburg St      2    h  1035000.0      S  Biggin   \n",
       "3  Abbotsford  18/659 Victoria St      3    u   870000.0     VB  Rounds   \n",
       "4  Abbotsford        5 Charles St      3    h  1465000.0     SP  Biggin   \n",
       "\n",
       "        Date  Distance  Postcode  ...  Bathroom  Car  Landsize  BuildingArea  \\\n",
       "0  3/09/2016       2.5    3067.0  ...       1.0  1.0     126.0      160.2564   \n",
       "1  3/12/2016       2.5    3067.0  ...       1.0  1.0     202.0      160.2564   \n",
       "2  4/02/2016       2.5    3067.0  ...       1.0  0.0     156.0       79.0000   \n",
       "3  4/02/2016       2.5    3067.0  ...       2.0  1.0       0.0      160.2564   \n",
       "4  4/03/2017       2.5    3067.0  ...       2.0  0.0     134.0      150.0000   \n",
       "\n",
       "     YearBuilt         CouncilArea Lattitude  Longtitude  \\\n",
       "0  1965.289885  Yarra City Council  -37.8014    144.9958   \n",
       "1  1965.289885  Yarra City Council  -37.7996    144.9984   \n",
       "2  1900.000000  Yarra City Council  -37.8079    144.9934   \n",
       "3  1965.289885  Yarra City Council  -37.8114    145.0116   \n",
       "4  1900.000000  Yarra City Council  -37.8093    144.9944   \n",
       "\n",
       "              Regionname Propertycount  \n",
       "0  Northern Metropolitan        4019.0  \n",
       "1  Northern Metropolitan        4019.0  \n",
       "2  Northern Metropolitan        4019.0  \n",
       "3  Northern Metropolitan        4019.0  \n",
       "4  Northern Metropolitan        4019.0  \n",
       "\n",
       "[5 rows x 21 columns]"
      ]
     },
     "execution_count": 59,
     "metadata": {},
     "output_type": "execute_result"
    }
   ],
   "source": [
    "Melbourne_house.head(5)"
   ]
  },
  {
   "cell_type": "code",
   "execution_count": 60,
   "id": "89e603dd",
   "metadata": {},
   "outputs": [
    {
     "data": {
      "text/html": [
       "<div>\n",
       "<style scoped>\n",
       "    .dataframe tbody tr th:only-of-type {\n",
       "        vertical-align: middle;\n",
       "    }\n",
       "\n",
       "    .dataframe tbody tr th {\n",
       "        vertical-align: top;\n",
       "    }\n",
       "\n",
       "    .dataframe thead th {\n",
       "        text-align: right;\n",
       "    }\n",
       "</style>\n",
       "<table border=\"1\" class=\"dataframe\">\n",
       "  <thead>\n",
       "    <tr style=\"text-align: right;\">\n",
       "      <th></th>\n",
       "      <th>Rooms</th>\n",
       "      <th>Price</th>\n",
       "      <th>Distance</th>\n",
       "      <th>Postcode</th>\n",
       "      <th>Bedroom2</th>\n",
       "      <th>Bathroom</th>\n",
       "      <th>Car</th>\n",
       "      <th>Landsize</th>\n",
       "      <th>BuildingArea</th>\n",
       "      <th>YearBuilt</th>\n",
       "      <th>Lattitude</th>\n",
       "      <th>Longtitude</th>\n",
       "      <th>Propertycount</th>\n",
       "    </tr>\n",
       "  </thead>\n",
       "  <tbody>\n",
       "    <tr>\n",
       "      <th>count</th>\n",
       "      <td>34857.000000</td>\n",
       "      <td>3.485700e+04</td>\n",
       "      <td>34857.000000</td>\n",
       "      <td>34857.000000</td>\n",
       "      <td>34857.000000</td>\n",
       "      <td>34857.000000</td>\n",
       "      <td>34857.000000</td>\n",
       "      <td>34857.000000</td>\n",
       "      <td>34857.000000</td>\n",
       "      <td>34857.000000</td>\n",
       "      <td>34857.000000</td>\n",
       "      <td>34857.000000</td>\n",
       "      <td>34857.000000</td>\n",
       "    </tr>\n",
       "    <tr>\n",
       "      <th>mean</th>\n",
       "      <td>3.031012</td>\n",
       "      <td>1.010838e+06</td>\n",
       "      <td>11.184929</td>\n",
       "      <td>3116.062484</td>\n",
       "      <td>2.593224</td>\n",
       "      <td>1.477350</td>\n",
       "      <td>1.728845</td>\n",
       "      <td>593.598993</td>\n",
       "      <td>160.256400</td>\n",
       "      <td>1965.289885</td>\n",
       "      <td>-37.813577</td>\n",
       "      <td>145.004454</td>\n",
       "      <td>7572.855065</td>\n",
       "    </tr>\n",
       "    <tr>\n",
       "      <th>std</th>\n",
       "      <td>0.969933</td>\n",
       "      <td>5.719992e+05</td>\n",
       "      <td>6.788795</td>\n",
       "      <td>109.022361</td>\n",
       "      <td>1.232070</td>\n",
       "      <td>0.686361</td>\n",
       "      <td>0.875119</td>\n",
       "      <td>2763.694121</td>\n",
       "      <td>251.943934</td>\n",
       "      <td>24.932350</td>\n",
       "      <td>0.092062</td>\n",
       "      <td>0.117715</td>\n",
       "      <td>4427.925923</td>\n",
       "    </tr>\n",
       "    <tr>\n",
       "      <th>min</th>\n",
       "      <td>1.000000</td>\n",
       "      <td>8.500000e+04</td>\n",
       "      <td>0.000000</td>\n",
       "      <td>3000.000000</td>\n",
       "      <td>0.000000</td>\n",
       "      <td>0.000000</td>\n",
       "      <td>0.000000</td>\n",
       "      <td>0.000000</td>\n",
       "      <td>0.000000</td>\n",
       "      <td>1196.000000</td>\n",
       "      <td>-38.190430</td>\n",
       "      <td>144.423790</td>\n",
       "      <td>83.000000</td>\n",
       "    </tr>\n",
       "    <tr>\n",
       "      <th>25%</th>\n",
       "      <td>2.000000</td>\n",
       "      <td>6.950000e+05</td>\n",
       "      <td>6.400000</td>\n",
       "      <td>3051.000000</td>\n",
       "      <td>1.000000</td>\n",
       "      <td>1.000000</td>\n",
       "      <td>1.000000</td>\n",
       "      <td>357.000000</td>\n",
       "      <td>160.000000</td>\n",
       "      <td>1965.289885</td>\n",
       "      <td>-37.866900</td>\n",
       "      <td>144.937700</td>\n",
       "      <td>4385.000000</td>\n",
       "    </tr>\n",
       "    <tr>\n",
       "      <th>50%</th>\n",
       "      <td>3.000000</td>\n",
       "      <td>8.700000e+05</td>\n",
       "      <td>10.300000</td>\n",
       "      <td>3103.000000</td>\n",
       "      <td>3.000000</td>\n",
       "      <td>1.000000</td>\n",
       "      <td>1.728845</td>\n",
       "      <td>593.598993</td>\n",
       "      <td>160.256400</td>\n",
       "      <td>1965.289885</td>\n",
       "      <td>-37.809880</td>\n",
       "      <td>145.010600</td>\n",
       "      <td>6763.000000</td>\n",
       "    </tr>\n",
       "    <tr>\n",
       "      <th>75%</th>\n",
       "      <td>4.000000</td>\n",
       "      <td>1.150000e+06</td>\n",
       "      <td>14.000000</td>\n",
       "      <td>3156.000000</td>\n",
       "      <td>3.000000</td>\n",
       "      <td>2.000000</td>\n",
       "      <td>2.000000</td>\n",
       "      <td>598.000000</td>\n",
       "      <td>160.256400</td>\n",
       "      <td>1965.289885</td>\n",
       "      <td>-37.754200</td>\n",
       "      <td>145.075700</td>\n",
       "      <td>10412.000000</td>\n",
       "    </tr>\n",
       "    <tr>\n",
       "      <th>max</th>\n",
       "      <td>16.000000</td>\n",
       "      <td>1.120000e+07</td>\n",
       "      <td>48.100000</td>\n",
       "      <td>3978.000000</td>\n",
       "      <td>30.000000</td>\n",
       "      <td>12.000000</td>\n",
       "      <td>26.000000</td>\n",
       "      <td>433014.000000</td>\n",
       "      <td>44515.000000</td>\n",
       "      <td>2106.000000</td>\n",
       "      <td>-37.390200</td>\n",
       "      <td>145.526350</td>\n",
       "      <td>21650.000000</td>\n",
       "    </tr>\n",
       "  </tbody>\n",
       "</table>\n",
       "</div>"
      ],
      "text/plain": [
       "              Rooms         Price      Distance      Postcode      Bedroom2  \\\n",
       "count  34857.000000  3.485700e+04  34857.000000  34857.000000  34857.000000   \n",
       "mean       3.031012  1.010838e+06     11.184929   3116.062484      2.593224   \n",
       "std        0.969933  5.719992e+05      6.788795    109.022361      1.232070   \n",
       "min        1.000000  8.500000e+04      0.000000   3000.000000      0.000000   \n",
       "25%        2.000000  6.950000e+05      6.400000   3051.000000      1.000000   \n",
       "50%        3.000000  8.700000e+05     10.300000   3103.000000      3.000000   \n",
       "75%        4.000000  1.150000e+06     14.000000   3156.000000      3.000000   \n",
       "max       16.000000  1.120000e+07     48.100000   3978.000000     30.000000   \n",
       "\n",
       "           Bathroom           Car       Landsize  BuildingArea     YearBuilt  \\\n",
       "count  34857.000000  34857.000000   34857.000000  34857.000000  34857.000000   \n",
       "mean       1.477350      1.728845     593.598993    160.256400   1965.289885   \n",
       "std        0.686361      0.875119    2763.694121    251.943934     24.932350   \n",
       "min        0.000000      0.000000       0.000000      0.000000   1196.000000   \n",
       "25%        1.000000      1.000000     357.000000    160.000000   1965.289885   \n",
       "50%        1.000000      1.728845     593.598993    160.256400   1965.289885   \n",
       "75%        2.000000      2.000000     598.000000    160.256400   1965.289885   \n",
       "max       12.000000     26.000000  433014.000000  44515.000000   2106.000000   \n",
       "\n",
       "          Lattitude    Longtitude  Propertycount  \n",
       "count  34857.000000  34857.000000   34857.000000  \n",
       "mean     -37.813577    145.004454    7572.855065  \n",
       "std        0.092062      0.117715    4427.925923  \n",
       "min      -38.190430    144.423790      83.000000  \n",
       "25%      -37.866900    144.937700    4385.000000  \n",
       "50%      -37.809880    145.010600    6763.000000  \n",
       "75%      -37.754200    145.075700   10412.000000  \n",
       "max      -37.390200    145.526350   21650.000000  "
      ]
     },
     "execution_count": 60,
     "metadata": {},
     "output_type": "execute_result"
    }
   ],
   "source": [
    "Melbourne_house.describe()"
   ]
  },
  {
   "cell_type": "code",
   "execution_count": 61,
   "id": "d297aef7",
   "metadata": {},
   "outputs": [
    {
     "name": "stderr",
     "output_type": "stream",
     "text": [
      "C:\\Users\\gateway\\AppData\\Local\\Temp\\ipykernel_14528\\686319225.py:1: FutureWarning: The default value of numeric_only in DataFrame.corr is deprecated. In a future version, it will default to False. Select only valid columns or specify the value of numeric_only to silence this warning.\n",
      "  Melbourne_house.corr()\n"
     ]
    },
    {
     "data": {
      "text/html": [
       "<div>\n",
       "<style scoped>\n",
       "    .dataframe tbody tr th:only-of-type {\n",
       "        vertical-align: middle;\n",
       "    }\n",
       "\n",
       "    .dataframe tbody tr th {\n",
       "        vertical-align: top;\n",
       "    }\n",
       "\n",
       "    .dataframe thead th {\n",
       "        text-align: right;\n",
       "    }\n",
       "</style>\n",
       "<table border=\"1\" class=\"dataframe\">\n",
       "  <thead>\n",
       "    <tr style=\"text-align: right;\">\n",
       "      <th></th>\n",
       "      <th>Rooms</th>\n",
       "      <th>Price</th>\n",
       "      <th>Distance</th>\n",
       "      <th>Postcode</th>\n",
       "      <th>Bedroom2</th>\n",
       "      <th>Bathroom</th>\n",
       "      <th>Car</th>\n",
       "      <th>Landsize</th>\n",
       "      <th>BuildingArea</th>\n",
       "      <th>YearBuilt</th>\n",
       "      <th>Lattitude</th>\n",
       "      <th>Longtitude</th>\n",
       "      <th>Propertycount</th>\n",
       "    </tr>\n",
       "  </thead>\n",
       "  <tbody>\n",
       "    <tr>\n",
       "      <th>Rooms</th>\n",
       "      <td>1.000000</td>\n",
       "      <td>0.391636</td>\n",
       "      <td>0.271511</td>\n",
       "      <td>0.085890</td>\n",
       "      <td>0.663150</td>\n",
       "      <td>0.538171</td>\n",
       "      <td>0.337780</td>\n",
       "      <td>0.030136</td>\n",
       "      <td>0.098468</td>\n",
       "      <td>-0.008660</td>\n",
       "      <td>-0.005091</td>\n",
       "      <td>0.097139</td>\n",
       "      <td>-0.071683</td>\n",
       "    </tr>\n",
       "    <tr>\n",
       "      <th>Price</th>\n",
       "      <td>0.391636</td>\n",
       "      <td>1.000000</td>\n",
       "      <td>-0.181801</td>\n",
       "      <td>0.035050</td>\n",
       "      <td>0.290424</td>\n",
       "      <td>0.325440</td>\n",
       "      <td>0.150389</td>\n",
       "      <td>0.026229</td>\n",
       "      <td>0.063438</td>\n",
       "      <td>-0.193304</td>\n",
       "      <td>-0.167904</td>\n",
       "      <td>0.149526</td>\n",
       "      <td>-0.052815</td>\n",
       "    </tr>\n",
       "    <tr>\n",
       "      <th>Distance</th>\n",
       "      <td>0.271511</td>\n",
       "      <td>-0.181801</td>\n",
       "      <td>1.000000</td>\n",
       "      <td>0.481566</td>\n",
       "      <td>0.184827</td>\n",
       "      <td>0.113241</td>\n",
       "      <td>0.211768</td>\n",
       "      <td>0.048717</td>\n",
       "      <td>0.050110</td>\n",
       "      <td>0.220757</td>\n",
       "      <td>-0.104397</td>\n",
       "      <td>0.199658</td>\n",
       "      <td>-0.018144</td>\n",
       "    </tr>\n",
       "    <tr>\n",
       "      <th>Postcode</th>\n",
       "      <td>0.085890</td>\n",
       "      <td>0.035050</td>\n",
       "      <td>0.481566</td>\n",
       "      <td>1.000000</td>\n",
       "      <td>0.063442</td>\n",
       "      <td>0.103680</td>\n",
       "      <td>0.060746</td>\n",
       "      <td>0.032452</td>\n",
       "      <td>0.029252</td>\n",
       "      <td>0.063422</td>\n",
       "      <td>-0.238702</td>\n",
       "      <td>0.341984</td>\n",
       "      <td>0.017110</td>\n",
       "    </tr>\n",
       "    <tr>\n",
       "      <th>Bedroom2</th>\n",
       "      <td>0.663150</td>\n",
       "      <td>0.290424</td>\n",
       "      <td>0.184827</td>\n",
       "      <td>0.063442</td>\n",
       "      <td>1.000000</td>\n",
       "      <td>0.671919</td>\n",
       "      <td>0.268222</td>\n",
       "      <td>0.024090</td>\n",
       "      <td>0.076606</td>\n",
       "      <td>-0.001106</td>\n",
       "      <td>0.046107</td>\n",
       "      <td>0.038929</td>\n",
       "      <td>-0.049663</td>\n",
       "    </tr>\n",
       "    <tr>\n",
       "      <th>Bathroom</th>\n",
       "      <td>0.538171</td>\n",
       "      <td>0.325440</td>\n",
       "      <td>0.113241</td>\n",
       "      <td>0.103680</td>\n",
       "      <td>0.671919</td>\n",
       "      <td>1.000000</td>\n",
       "      <td>0.281782</td>\n",
       "      <td>0.031377</td>\n",
       "      <td>0.099597</td>\n",
       "      <td>0.120087</td>\n",
       "      <td>-0.022957</td>\n",
       "      <td>0.073180</td>\n",
       "      <td>-0.035582</td>\n",
       "    </tr>\n",
       "    <tr>\n",
       "      <th>Car</th>\n",
       "      <td>0.337780</td>\n",
       "      <td>0.150389</td>\n",
       "      <td>0.211768</td>\n",
       "      <td>0.060746</td>\n",
       "      <td>0.268222</td>\n",
       "      <td>0.281782</td>\n",
       "      <td>1.000000</td>\n",
       "      <td>0.034846</td>\n",
       "      <td>0.074810</td>\n",
       "      <td>0.095211</td>\n",
       "      <td>-0.007711</td>\n",
       "      <td>0.041931</td>\n",
       "      <td>-0.008171</td>\n",
       "    </tr>\n",
       "    <tr>\n",
       "      <th>Landsize</th>\n",
       "      <td>0.030136</td>\n",
       "      <td>0.026229</td>\n",
       "      <td>0.048717</td>\n",
       "      <td>0.032452</td>\n",
       "      <td>0.024090</td>\n",
       "      <td>0.031377</td>\n",
       "      <td>0.034846</td>\n",
       "      <td>1.000000</td>\n",
       "      <td>0.085636</td>\n",
       "      <td>0.010530</td>\n",
       "      <td>0.019578</td>\n",
       "      <td>-0.002087</td>\n",
       "      <td>-0.014453</td>\n",
       "    </tr>\n",
       "    <tr>\n",
       "      <th>BuildingArea</th>\n",
       "      <td>0.098468</td>\n",
       "      <td>0.063438</td>\n",
       "      <td>0.050110</td>\n",
       "      <td>0.029252</td>\n",
       "      <td>0.076606</td>\n",
       "      <td>0.099597</td>\n",
       "      <td>0.074810</td>\n",
       "      <td>0.085636</td>\n",
       "      <td>1.000000</td>\n",
       "      <td>0.013914</td>\n",
       "      <td>0.010796</td>\n",
       "      <td>-0.001379</td>\n",
       "      <td>-0.015003</td>\n",
       "    </tr>\n",
       "    <tr>\n",
       "      <th>YearBuilt</th>\n",
       "      <td>-0.008660</td>\n",
       "      <td>-0.193304</td>\n",
       "      <td>0.220757</td>\n",
       "      <td>0.063422</td>\n",
       "      <td>-0.001106</td>\n",
       "      <td>0.120087</td>\n",
       "      <td>0.095211</td>\n",
       "      <td>0.010530</td>\n",
       "      <td>0.013914</td>\n",
       "      <td>1.000000</td>\n",
       "      <td>0.060315</td>\n",
       "      <td>-0.015020</td>\n",
       "      <td>0.014550</td>\n",
       "    </tr>\n",
       "    <tr>\n",
       "      <th>Lattitude</th>\n",
       "      <td>-0.005091</td>\n",
       "      <td>-0.167904</td>\n",
       "      <td>-0.104397</td>\n",
       "      <td>-0.238702</td>\n",
       "      <td>0.046107</td>\n",
       "      <td>-0.022957</td>\n",
       "      <td>-0.007711</td>\n",
       "      <td>0.019578</td>\n",
       "      <td>0.010796</td>\n",
       "      <td>0.060315</td>\n",
       "      <td>1.000000</td>\n",
       "      <td>-0.353161</td>\n",
       "      <td>0.039622</td>\n",
       "    </tr>\n",
       "    <tr>\n",
       "      <th>Longtitude</th>\n",
       "      <td>0.097139</td>\n",
       "      <td>0.149526</td>\n",
       "      <td>0.199658</td>\n",
       "      <td>0.341984</td>\n",
       "      <td>0.038929</td>\n",
       "      <td>0.073180</td>\n",
       "      <td>0.041931</td>\n",
       "      <td>-0.002087</td>\n",
       "      <td>-0.001379</td>\n",
       "      <td>-0.015020</td>\n",
       "      <td>-0.353161</td>\n",
       "      <td>1.000000</td>\n",
       "      <td>0.012925</td>\n",
       "    </tr>\n",
       "    <tr>\n",
       "      <th>Propertycount</th>\n",
       "      <td>-0.071683</td>\n",
       "      <td>-0.052815</td>\n",
       "      <td>-0.018144</td>\n",
       "      <td>0.017110</td>\n",
       "      <td>-0.049663</td>\n",
       "      <td>-0.035582</td>\n",
       "      <td>-0.008171</td>\n",
       "      <td>-0.014453</td>\n",
       "      <td>-0.015003</td>\n",
       "      <td>0.014550</td>\n",
       "      <td>0.039622</td>\n",
       "      <td>0.012925</td>\n",
       "      <td>1.000000</td>\n",
       "    </tr>\n",
       "  </tbody>\n",
       "</table>\n",
       "</div>"
      ],
      "text/plain": [
       "                  Rooms     Price  Distance  Postcode  Bedroom2  Bathroom  \\\n",
       "Rooms          1.000000  0.391636  0.271511  0.085890  0.663150  0.538171   \n",
       "Price          0.391636  1.000000 -0.181801  0.035050  0.290424  0.325440   \n",
       "Distance       0.271511 -0.181801  1.000000  0.481566  0.184827  0.113241   \n",
       "Postcode       0.085890  0.035050  0.481566  1.000000  0.063442  0.103680   \n",
       "Bedroom2       0.663150  0.290424  0.184827  0.063442  1.000000  0.671919   \n",
       "Bathroom       0.538171  0.325440  0.113241  0.103680  0.671919  1.000000   \n",
       "Car            0.337780  0.150389  0.211768  0.060746  0.268222  0.281782   \n",
       "Landsize       0.030136  0.026229  0.048717  0.032452  0.024090  0.031377   \n",
       "BuildingArea   0.098468  0.063438  0.050110  0.029252  0.076606  0.099597   \n",
       "YearBuilt     -0.008660 -0.193304  0.220757  0.063422 -0.001106  0.120087   \n",
       "Lattitude     -0.005091 -0.167904 -0.104397 -0.238702  0.046107 -0.022957   \n",
       "Longtitude     0.097139  0.149526  0.199658  0.341984  0.038929  0.073180   \n",
       "Propertycount -0.071683 -0.052815 -0.018144  0.017110 -0.049663 -0.035582   \n",
       "\n",
       "                    Car  Landsize  BuildingArea  YearBuilt  Lattitude  \\\n",
       "Rooms          0.337780  0.030136      0.098468  -0.008660  -0.005091   \n",
       "Price          0.150389  0.026229      0.063438  -0.193304  -0.167904   \n",
       "Distance       0.211768  0.048717      0.050110   0.220757  -0.104397   \n",
       "Postcode       0.060746  0.032452      0.029252   0.063422  -0.238702   \n",
       "Bedroom2       0.268222  0.024090      0.076606  -0.001106   0.046107   \n",
       "Bathroom       0.281782  0.031377      0.099597   0.120087  -0.022957   \n",
       "Car            1.000000  0.034846      0.074810   0.095211  -0.007711   \n",
       "Landsize       0.034846  1.000000      0.085636   0.010530   0.019578   \n",
       "BuildingArea   0.074810  0.085636      1.000000   0.013914   0.010796   \n",
       "YearBuilt      0.095211  0.010530      0.013914   1.000000   0.060315   \n",
       "Lattitude     -0.007711  0.019578      0.010796   0.060315   1.000000   \n",
       "Longtitude     0.041931 -0.002087     -0.001379  -0.015020  -0.353161   \n",
       "Propertycount -0.008171 -0.014453     -0.015003   0.014550   0.039622   \n",
       "\n",
       "               Longtitude  Propertycount  \n",
       "Rooms            0.097139      -0.071683  \n",
       "Price            0.149526      -0.052815  \n",
       "Distance         0.199658      -0.018144  \n",
       "Postcode         0.341984       0.017110  \n",
       "Bedroom2         0.038929      -0.049663  \n",
       "Bathroom         0.073180      -0.035582  \n",
       "Car              0.041931      -0.008171  \n",
       "Landsize        -0.002087      -0.014453  \n",
       "BuildingArea    -0.001379      -0.015003  \n",
       "YearBuilt       -0.015020       0.014550  \n",
       "Lattitude       -0.353161       0.039622  \n",
       "Longtitude       1.000000       0.012925  \n",
       "Propertycount    0.012925       1.000000  "
      ]
     },
     "execution_count": 61,
     "metadata": {},
     "output_type": "execute_result"
    }
   ],
   "source": [
    "Melbourne_house.corr()"
   ]
  },
  {
   "cell_type": "code",
   "execution_count": null,
   "id": "6b9722d9",
   "metadata": {},
   "outputs": [
    {
     "data": {
      "text/plain": [
       "<seaborn.axisgrid.PairGrid at 0x1ab07ad3430>"
      ]
     },
     "execution_count": 62,
     "metadata": {},
     "output_type": "execute_result"
    }
   ],
   "source": [
    "sns.pairplot(Melbourne_house, x_vars = ['Suburb', 'Address', 'Rooms', 'Type', 'Method', 'SellerG',\n",
    "       'Date', 'Distance', 'Postcode', 'Bedroom2', 'Bathroom', 'Car',\n",
    "       'Landsize', 'BuildingArea', 'YearBuilt', 'CouncilArea', 'Lattitude',\n",
    "       'Longtitude', 'Regionname', 'Propertycount'], y_vars = 'Price')"
   ]
  },
  {
   "cell_type": "code",
   "execution_count": null,
   "id": "57958869",
   "metadata": {},
   "outputs": [],
   "source": [
    "sns.regplot(Melbourne_house, x='Rooms', y= 'Price')  # regression plot"
   ]
  },
  {
   "cell_type": "code",
   "execution_count": null,
   "id": "9e594617",
   "metadata": {},
   "outputs": [],
   "source": [
    "sns.regplot(Melbourne_house, x='Bedroom2', y= 'Price')  # regression plot"
   ]
  },
  {
   "cell_type": "code",
   "execution_count": null,
   "id": "7cd169ed",
   "metadata": {},
   "outputs": [],
   "source": [
    "sns.regplot(Melbourne_house, x='YearBuilt', y= 'Price')  # regression plot"
   ]
  },
  {
   "cell_type": "code",
   "execution_count": null,
   "id": "8b392058",
   "metadata": {},
   "outputs": [],
   "source": [
    "X = Melbourne_house[['Suburb', 'Address', 'Rooms', 'Type', 'Method', 'SellerG',\n",
    "       'Date', 'Distance', 'Postcode', 'Bedroom2', 'Bathroom', 'Car',\n",
    "       'Landsize', 'BuildingArea', 'YearBuilt', 'CouncilArea', 'Lattitude',\n",
    "       'Longtitude', 'Regionname', 'Propertycount']]\n",
    "y = Melbourne_house['Price']"
   ]
  },
  {
   "cell_type": "code",
   "execution_count": null,
   "id": "628ceccb",
   "metadata": {
    "scrolled": true
   },
   "outputs": [],
   "source": [
    "X"
   ]
  },
  {
   "cell_type": "code",
   "execution_count": null,
   "id": "99facffd",
   "metadata": {},
   "outputs": [],
   "source": [
    "Melbourne_house['Suburb'].unique()"
   ]
  },
  {
   "cell_type": "code",
   "execution_count": null,
   "id": "d4b9a9c2",
   "metadata": {},
   "outputs": [],
   "source": [
    "Melbourne_house['Address'].unique()"
   ]
  },
  {
   "cell_type": "code",
   "execution_count": null,
   "id": "0ba257c9",
   "metadata": {},
   "outputs": [],
   "source": [
    "Melbourne_house['SellerG'].unique()   "
   ]
  },
  {
   "cell_type": "code",
   "execution_count": null,
   "id": "9627540c",
   "metadata": {},
   "outputs": [],
   "source": [
    "Melbourne_house['CouncilArea'].unique()"
   ]
  },
  {
   "cell_type": "code",
   "execution_count": null,
   "id": "74cee208",
   "metadata": {},
   "outputs": [],
   "source": [
    "Melbourne_house['Regionname'].unique()"
   ]
  },
  {
   "cell_type": "code",
   "execution_count": null,
   "id": "b841c4bd",
   "metadata": {},
   "outputs": [],
   "source": [
    "Melbourne_house['Type'].unique()"
   ]
  },
  {
   "cell_type": "code",
   "execution_count": null,
   "id": "e10733f4",
   "metadata": {},
   "outputs": [],
   "source": [
    "Melbourne_house['Method'].unique()"
   ]
  },
  {
   "cell_type": "code",
   "execution_count": null,
   "id": "bc00c7e2",
   "metadata": {},
   "outputs": [],
   "source": [
    "Melbourne_house['Address'] = Melbourne_house['Address'].astype('category')\n",
    "Melbourne_house['Address'] = Melbourne_house['Address'].cat.codes"
   ]
  },
  {
   "cell_type": "code",
   "execution_count": null,
   "id": "cddf01bc",
   "metadata": {},
   "outputs": [],
   "source": []
  },
  {
   "cell_type": "code",
   "execution_count": null,
   "id": "6e881ec2",
   "metadata": {},
   "outputs": [],
   "source": [
    "\n"
   ]
  },
  {
   "cell_type": "code",
   "execution_count": null,
   "id": "93623c56",
   "metadata": {},
   "outputs": [],
   "source": [
    "Melbourne_house.head(5)"
   ]
  },
  {
   "cell_type": "code",
   "execution_count": null,
   "id": "b1b80c23",
   "metadata": {},
   "outputs": [],
   "source": [
    "from sklearn.model_selection import train_test_split\n",
    "\n",
    "from sklearn.linear_model import LinearRegression\n",
    "\n",
    "from sklearn.metrics import r2_score, mean_squared_error\n",
    "\n",
    "from sklearn.tree import DecisionTreeRegressor\n",
    "\n",
    "from sklearn.ensemble import RandomForestRegressor"
   ]
  },
  {
   "cell_type": "code",
   "execution_count": null,
   "id": "ae4da36d",
   "metadata": {},
   "outputs": [],
   "source": [
    "X_train,X_test, y_train, y_test = train_test_split(X, y , test_size= 0.20, random_state = 66)"
   ]
  },
  {
   "cell_type": "code",
   "execution_count": null,
   "id": "80f9fc54",
   "metadata": {},
   "outputs": [],
   "source": [
    "len(X_train),len(X_test), len(y_train), len(y_test)"
   ]
  },
  {
   "cell_type": "markdown",
   "id": "f3fb3067",
   "metadata": {},
   "source": [
    "# Linear Regression\n"
   ]
  },
  {
   "cell_type": "code",
   "execution_count": null,
   "id": "4f4d3398",
   "metadata": {},
   "outputs": [],
   "source": [
    "lr=  LinearRegression()\n",
    "lr.fit(X_train, y_train)\n",
    "y_pred=lr.predict(X_test)\n",
    "y_pred\n",
    "\n",
    "8527168521"
   ]
  },
  {
   "cell_type": "code",
   "execution_count": null,
   "id": "8776eb99",
   "metadata": {},
   "outputs": [],
   "source": [
    "r2_score(y_test, y_pred)"
   ]
  },
  {
   "cell_type": "code",
   "execution_count": null,
   "id": "49e0d237",
   "metadata": {},
   "outputs": [],
   "source": [
    "def mean_absolute_percentage_error(y_test, y_pred):\n",
    "    return np.mean(np.abs((y_test - y_pred) / y_test)) * 100\n",
    "\n",
    "mean_absolute_percentage_error(y_test, y_pred)"
   ]
  },
  {
   "cell_type": "code",
   "execution_count": null,
   "id": "612080d9",
   "metadata": {},
   "outputs": [],
   "source": []
  },
  {
   "cell_type": "code",
   "execution_count": null,
   "id": "f8ca1b77",
   "metadata": {},
   "outputs": [],
   "source": []
  },
  {
   "cell_type": "code",
   "execution_count": null,
   "id": "431ed2a0",
   "metadata": {},
   "outputs": [],
   "source": []
  }
 ],
 "metadata": {
  "kernelspec": {
   "display_name": "Python 3 (ipykernel)",
   "language": "python",
   "name": "python3"
  },
  "language_info": {
   "codemirror_mode": {
    "name": "ipython",
    "version": 3
   },
   "file_extension": ".py",
   "mimetype": "text/x-python",
   "name": "python",
   "nbconvert_exporter": "python",
   "pygments_lexer": "ipython3",
   "version": "3.10.4"
  }
 },
 "nbformat": 4,
 "nbformat_minor": 5
}
